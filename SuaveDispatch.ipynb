{
 "cells": [
  {
   "cell_type": "markdown",
   "metadata": {},
   "source": [
    "## Welcome to the SuAVE Jupyter Notebook Server\n",
    "\n",
    "This is the Jupyter Notebook Dispatcher module of the SuAVE platform. This environment allows you to execute scripts to process survey data in SuAVE and update the datasets for visual analysis. In a typical case, the scripts will generate one or more additional variables which will be added to a dataset. \n",
    "\n",
    "You can execute cells in sequence (by clicking 'Run' above, or pressing Shift-Enter). From  this module (\"dispatcher\") you can launch other notebooks to perform computations, image processing,  modeling and statistical tasks.\n",
    "\n"
   ]
  },
  {
   "cell_type": "markdown",
   "metadata": {},
   "source": [
    "### 1. Accepting survey parameters from SuAVE \n",
    "\n",
    "This cell will retrieve survey parameters from the URL. Execute it to continue "
   ]
  },
  {
   "cell_type": "code",
   "execution_count": 343,
   "metadata": {},
   "outputs": [
    {
     "data": {
      "application/javascript": [
       "function getQueryStringValue (key)\n",
       "{  \n",
       "    return unescape(window.location.search.replace(new RegExp(\"^(?:.*[&\\\\?]\" + escape(key).replace(/[\\.\\+\\*]/g, \"\\\\$&\") + \"(?:\\\\=([^&]*))?)?.*$\", \"i\"), \"$1\"));\n",
       "}\n",
       "IPython.notebook.kernel.execute(\"survey_url='\".concat(getQueryStringValue(\"surveyurl\")).concat(\"'\"));\n",
       "IPython.notebook.kernel.execute(\"user='\".concat(getQueryStringValue(\"user\")).concat(\"'\"));\n",
       "IPython.notebook.kernel.execute(\"csv_file='\".concat(getQueryStringValue(\"csv\")).concat(\"'\")); \n",
       "IPython.notebook.kernel.execute(\"dzc_file='\".concat(getQueryStringValue(\"dzc\")).concat(\"'\")); \n",
       "IPython.notebook.kernel.execute(\"params='\".concat(getQueryStringValue(\"params\")).concat(\"'\")); \n",
       "IPython.notebook.kernel.execute(\"active_object='\".concat(getQueryStringValue(\"activeobject\")).concat(\"'\")); \n",
       "IPython.notebook.kernel.execute(\"full_notebook_url='\" + window.location + \"'\"); "
      ],
      "text/plain": [
       "<IPython.core.display.Javascript object>"
      ]
     },
     "metadata": {},
     "output_type": "display_data"
    }
   ],
   "source": [
    "%%javascript\n",
    "function getQueryStringValue (key)\n",
    "{  \n",
    "    return unescape(window.location.search.replace(new RegExp(\"^(?:.*[&\\\\?]\" + escape(key).replace(/[\\.\\+\\*]/g, \"\\\\$&\") + \"(?:\\\\=([^&]*))?)?.*$\", \"i\"), \"$1\"));\n",
    "}\n",
    "IPython.notebook.kernel.execute(\"survey_url='\".concat(getQueryStringValue(\"surveyurl\")).concat(\"'\"));\n",
    "IPython.notebook.kernel.execute(\"user='\".concat(getQueryStringValue(\"user\")).concat(\"'\"));\n",
    "IPython.notebook.kernel.execute(\"csv_file='\".concat(getQueryStringValue(\"csv\")).concat(\"'\")); \n",
    "IPython.notebook.kernel.execute(\"dzc_file='\".concat(getQueryStringValue(\"dzc\")).concat(\"'\")); \n",
    "IPython.notebook.kernel.execute(\"params='\".concat(getQueryStringValue(\"params\")).concat(\"'\")); \n",
    "IPython.notebook.kernel.execute(\"active_object='\".concat(getQueryStringValue(\"activeobject\")).concat(\"'\")); \n",
    "IPython.notebook.kernel.execute(\"full_notebook_url='\" + window.location + \"'\"); "
   ]
  },
  {
   "cell_type": "markdown",
   "metadata": {},
   "source": [
    "### 2. Check if the passed parameters are correct ###"
   ]
  },
  {
   "cell_type": "code",
   "execution_count": 344,
   "metadata": {
    "scrolled": true
   },
   "outputs": [
    {
     "name": "stdout",
     "output_type": "stream",
     "text": [
      "Base Survey URL:  https://suave-dev.sdsc.edu/main/file=public_REHS_Alumni.csv\n",
      "User ID:  public\n",
      "Additional Parameters:  none\n",
      "Data File:  public_REHS_Alumni.csv\n",
      "Image Tile Collection:  https://maxim.ucsd.edu/dzgen/lib-staging-uploads/b0fab8c6d1557d74d16d28c4a828de5c/content.dzc\n",
      "Active Object:  nathanng\n",
      "Jupyter Hub URL:  http://suave-jupyterhub.com/user/zeppelin-v/notebooks\n"
     ]
    }
   ],
   "source": [
    "# Check if the parameters are correct\n",
    "import ntpath\n",
    "url_partitioned = full_notebook_url.partition('/SuaveDispatch')\n",
    "base_url = url_partitioned[0];\n",
    "if dzc_file == \"undefined\":\n",
    "    dzc_file = \"\"\n",
    "print(\"Base Survey URL: \", survey_url)\n",
    "print(\"User ID: \", user)\n",
    "print(\"Additional Parameters: \", params)\n",
    "print(\"Data File: \", csv_file)\n",
    "print(\"Image Tile Collection: \", dzc_file)\n",
    "print(\"Active Object: \", active_object)\n",
    "print(\"Jupyter Hub URL: \", base_url)"
   ]
  },
  {
   "cell_type": "markdown",
   "metadata": {},
   "source": [
    "### 3. Retrieve the survey file for processing\n",
    "\n",
    "As before, Shift-Enter to run this cell and continue to the next one. This merely prepares the data for subsequent processing"
   ]
  },
  {
   "cell_type": "code",
   "execution_count": 345,
   "metadata": {},
   "outputs": [
    {
     "name": "stderr",
     "output_type": "stream",
     "text": [
      "/usr/local/lib/python3.5/dist-packages/urllib3/connectionpool.py:858: InsecureRequestWarning: Unverified HTTPS request is being made. Adding certificate verification is strongly advised. See: https://urllib3.readthedocs.io/en/latest/advanced-usage.html#ssl-warnings\n",
      "  InsecureRequestWarning)\n"
     ]
    }
   ],
   "source": [
    "import urllib3\n",
    "\n",
    "csv_url = survey_url.split(\"main\")[0] + \"/surveys/\" + csv_file\n",
    "\n",
    "http = urllib3.PoolManager()\n",
    "r = http.request('GET', csv_url, preload_content=False)\n",
    "\n",
    "path = \"temp_csvs/\" + csv_file \n",
    "with open(path, 'wb') as out:\n",
    "    while True:\n",
    "        data = r.read(1024)\n",
    "        if not data:\n",
    "            break\n",
    "        out.write(data)\n",
    "\n",
    "r.release_conn()"
   ]
  },
  {
   "cell_type": "code",
   "execution_count": 346,
   "metadata": {},
   "outputs": [],
   "source": [
    "# Needed to add a user field to the calling url \n",
    "# call with http://localhost:8888/notebooks/Downloads/Jupyter/SuaveDispatch.ipynb?surveyurl=aa&csv=bb&params=cc&dzc=dd&activeobject=mm\n",
    "\n",
    "# these should be preinstalled to support interactive widgets:\n",
    "# !pip install ipywidgets\n",
    "# !jupyter nbextension enable --py widgetsnbextension\n"
   ]
  },
  {
   "cell_type": "markdown",
   "metadata": {
    "collapsed": true
   },
   "source": [
    "### 4. Now, select a notebook to do some work\n",
    "\n",
    "Run the following cell to see a drop-down list of available notebooks. Select a notebook, then continue to the next cell"
   ]
  },
  {
   "cell_type": "code",
   "execution_count": 347,
   "metadata": {},
   "outputs": [
    {
     "data": {
      "application/vnd.jupyter.widget-view+json": {
       "model_id": "a1cede3e153542809b961b3ae475c5e8",
       "version_major": 2,
       "version_minor": 0
      },
      "text/plain": [
       "interactive(children=(Dropdown(description='notebooks_menu', options=('4. Color Characteristics', '3. Classify…"
      ]
     },
     "metadata": {},
     "output_type": "display_data"
    },
    {
     "name": "stdout",
     "output_type": "stream",
     "text": [
      "Select a Jupyter notebook and then run the following cell \n"
     ]
    }
   ],
   "source": [
    "\n",
    "from __future__ import print_function\n",
    "from ipywidgets import interact, interactive, fixed, interact_manual\n",
    "import ipywidgets as widgets\n",
    "\n",
    "nb_menu = {\n",
    "    '1. Arithmetic operations': 'arithmetic/SuaveArithmetic.ipynb',\n",
    "    '4. Color Characteristics': 'colors/ColorCharacteristics.ipynb',\n",
    "    '3. Classify Images': 'classify/ImageClassify.ipynb',\n",
    "    '2. Predictive models': 'predict/PredictiveModel.ipynb',\n",
    "    '5. SVM models': 'svm/SVMPredictiveModel.ipynb',\n",
    "}\n",
    "\n",
    "def f(notebooks_menu):\n",
    "    return notebooks_menu\n",
    "# out = interact(f, notebooks_menu=nb_menu);\n",
    "out = interact(f, notebooks_menu=nb_menu.keys());\n",
    "\n",
    "print('Select a Jupyter notebook and then run the following cell ')\n"
   ]
  },
  {
   "cell_type": "markdown",
   "metadata": {},
   "source": [
    "### 5. Open the selected notebook and pass survey parameters to it\n",
    "\n",
    "Once the URL is for the next notebook is constructed, click that URL to open it"
   ]
  },
  {
   "cell_type": "code",
   "execution_count": 348,
   "metadata": {},
   "outputs": [
    {
     "name": "stdout",
     "output_type": "stream",
     "text": [
      "Click the URL to open the selected notebook : http://suave-jupyterhub.com/user/zeppelin-v/notebooks/operations/arithmetic/SuaveArithmetic.ipynb?surveyurl=https://suave-dev.sdsc.edu/main/file=public_REHS_Alumni.csv&user=public&csv=public_REHS_Alumni.csv&dzc=https://maxim.ucsd.edu/dzgen/lib-staging-uploads/b0fab8c6d1557d74d16d28c4a828de5c/content.dzc&activeobject=nathanng\n"
     ]
    }
   ],
   "source": [
    "chosen_nb_name = nb_menu[out.widget.result]\n",
    "import webbrowser\n",
    "url1 = ('{base_url}/operations/{nb_name}?'+'surveyurl='+survey_url+'&'+'user='+user+'&'+'csv='+csv_file+'&'+'dzc='+dzc_file+\"&\"+'activeobject='+active_object).format(base_url=base_url, nb_name=chosen_nb_name)\n",
    "print('Click the URL to open the selected notebook :', url1)\n",
    "\n",
    "#webbrowser.open(url1)"
   ]
  },
  {
   "cell_type": "code",
   "execution_count": null,
   "metadata": {},
   "outputs": [],
   "source": []
  },
  {
   "cell_type": "code",
   "execution_count": null,
   "metadata": {},
   "outputs": [],
   "source": []
  }
 ],
 "metadata": {
  "kernelspec": {
   "display_name": "Python 3",
   "language": "python",
   "name": "python3"
  },
  "language_info": {
   "codemirror_mode": {
    "name": "ipython",
    "version": 3
   },
   "file_extension": ".py",
   "mimetype": "text/x-python",
   "name": "python",
   "nbconvert_exporter": "python",
   "pygments_lexer": "ipython3",
   "version": "3.5.2"
  }
 },
 "nbformat": 4,
 "nbformat_minor": 2
}
