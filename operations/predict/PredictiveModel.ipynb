{
 "cells": [
  {
   "cell_type": "markdown",
   "metadata": {},
   "source": [
    "# SuAVE Image to Label CNN Prediction Model"
   ]
  },
  {
   "cell_type": "code",
   "execution_count": 204,
   "metadata": {},
   "outputs": [
    {
     "data": {
      "application/javascript": [
       "function getQueryStringValue (key)\n",
       "{  \n",
       "    return unescape(window.location.search.replace(new RegExp(\"^(?:.*[&\\\\?]\" + escape(key).replace(/[\\.\\+\\*]/g, \"\\\\$&\") + \"(?:\\\\=([^&]*))?)?.*$\", \"i\"), \"$1\"));\n",
       "}\n",
       "IPython.notebook.kernel.execute(\"survey_url='\".concat(getQueryStringValue(\"surveyurl\")).concat(\"'\"));\n",
       "IPython.notebook.kernel.execute(\"user='\".concat(getQueryStringValue(\"user\")).concat(\"'\"));\n",
       "IPython.notebook.kernel.execute(\"csv_file='\".concat(getQueryStringValue(\"csv\")).concat(\"'\")); \n",
       "IPython.notebook.kernel.execute(\"dzc_file='\".concat(getQueryStringValue(\"dzc\")).concat(\"'\")); \n",
       "IPython.notebook.kernel.execute(\"params='\".concat(getQueryStringValue(\"params\")).concat(\"'\")); \n",
       "IPython.notebook.kernel.execute(\"active_object='\".concat(getQueryStringValue(\"activeobject\")).concat(\"'\")); "
      ],
      "text/plain": [
       "<IPython.core.display.Javascript object>"
      ]
     },
     "metadata": {},
     "output_type": "display_data"
    }
   ],
   "source": [
    "%%javascript\n",
    "function getQueryStringValue (key)\n",
    "{  \n",
    "    return unescape(window.location.search.replace(new RegExp(\"^(?:.*[&\\\\?]\" + escape(key).replace(/[\\.\\+\\*]/g, \"\\\\$&\") + \"(?:\\\\=([^&]*))?)?.*$\", \"i\"), \"$1\"));\n",
    "}\n",
    "IPython.notebook.kernel.execute(\"survey_url='\".concat(getQueryStringValue(\"surveyurl\")).concat(\"'\"));\n",
    "IPython.notebook.kernel.execute(\"user='\".concat(getQueryStringValue(\"user\")).concat(\"'\"));\n",
    "IPython.notebook.kernel.execute(\"csv_file='\".concat(getQueryStringValue(\"csv\")).concat(\"'\")); \n",
    "IPython.notebook.kernel.execute(\"dzc_file='\".concat(getQueryStringValue(\"dzc\")).concat(\"'\")); \n",
    "IPython.notebook.kernel.execute(\"params='\".concat(getQueryStringValue(\"params\")).concat(\"'\")); \n",
    "IPython.notebook.kernel.execute(\"active_object='\".concat(getQueryStringValue(\"activeobject\")).concat(\"'\")); "
   ]
  },
  {
   "cell_type": "markdown",
   "metadata": {},
   "source": [
    "### Import all packages (this might take a few seconds)"
   ]
  },
  {
   "cell_type": "code",
   "execution_count": 205,
   "metadata": {},
   "outputs": [],
   "source": [
    "import warnings\n",
    "warnings.filterwarnings('ignore')  # \"error\", \"ignore\", \"always\", \"default\", \"module\" or \"once\"\n",
    "# import the necessary packages\n",
    "from keras.preprocessing.image import ImageDataGenerator\n",
    "from keras.optimizers import Adam\n",
    "from sklearn.model_selection import train_test_split\n",
    "from keras.preprocessing.image import img_to_array\n",
    "from keras.utils import to_categorical\n",
    "from imutils import paths\n",
    "\n",
    "from keras.utils import np_utils\n",
    "from keras.models import Sequential\n",
    "from keras.layers.convolutional import Conv2D\n",
    "from keras.layers.convolutional import MaxPooling2D\n",
    "from keras.layers.core import Activation\n",
    "from keras.layers.core import Flatten\n",
    "from keras.layers.core import Dense\n",
    "from keras.layers.core import Dropout\n",
    "from keras import backend as K\n",
    "from lenet import LeNet\n",
    "\n",
    "# More imports\n",
    "import matplotlib.pyplot as plt\n",
    "import numpy as np\n",
    "import argparse\n",
    "import random\n",
    "import csv\n",
    "import pandas as pd\n",
    "import re\n",
    "import cv2\n",
    "import os\n",
    "\n",
    "# import the necessary packages for SVM predictor\n",
    "from sklearn.preprocessing import LabelEncoder\n",
    "from sklearn.svm import LinearSVC\n",
    "from sklearn.metrics import classification_report\n",
    "from sklearn.model_selection import train_test_split\n",
    "import imutils\n",
    "\n",
    "# Import widget functionality\n",
    "from __future__ import print_function\n",
    "from ipywidgets import interact, interactive, fixed, interact_manual\n",
    "import ipywidgets as widgets"
   ]
  },
  {
   "cell_type": "markdown",
   "metadata": {},
   "source": [
    "## Initializing the number of times the model will loop and its batch size for learning"
   ]
  },
  {
   "cell_type": "code",
   "execution_count": 199,
   "metadata": {
    "scrolled": true
   },
   "outputs": [
    {
     "data": {
      "application/vnd.jupyter.widget-view+json": {
       "model_id": "7eef79ce7b0a49a18411c8bdb973732a",
       "version_major": 2,
       "version_minor": 0
      },
      "text/plain": [
       "interactive(children=(Dropdown(description='epoch_count', options={'25 Iterations': 25, '50 Iterations': 50, '…"
      ]
     },
     "metadata": {},
     "output_type": "display_data"
    }
   ],
   "source": [
    "epochCount = {\n",
    "    '25 Iterations': 25,\n",
    "    '50 Iterations': 50,\n",
    "    '75 Iterations': 75\n",
    "}\n",
    "\n",
    "def f(epoch_count):\n",
    "    return epoch_count\n",
    "\n",
    "epochNum = interact(f, epoch_count=epochCount)"
   ]
  },
  {
   "cell_type": "code",
   "execution_count": 206,
   "metadata": {},
   "outputs": [
    {
     "data": {
      "application/vnd.jupyter.widget-view+json": {
       "model_id": "ce3d48e544e54ccba546e67d3297c7d1",
       "version_major": 2,
       "version_minor": 0
      },
      "text/plain": [
       "interactive(children=(Dropdown(description='batch_size', options={'64 Batch Size': 64, '32 Batch Size': 32, '1…"
      ]
     },
     "metadata": {},
     "output_type": "display_data"
    }
   ],
   "source": [
    "batchS = {\n",
    "    '32 Batch Size': 32,\n",
    "    '64 Batch Size': 64,\n",
    "    '128 Batch Size': 128\n",
    "}\n",
    "\n",
    "def f(batch_size):\n",
    "    return batch_size\n",
    "\n",
    "batchNum = interact(f, batch_size=batchS)"
   ]
  },
  {
   "cell_type": "code",
   "execution_count": 207,
   "metadata": {},
   "outputs": [],
   "source": [
    "# init the number of epochs to train for, init learning rate and batch size\n",
    "EPOCHS = epochNum.widget.result\n",
    "INIT_LR = 1e-3\n",
    "BS = batchNum.widget.result\n",
    "# init the image suffix, yset, and image list\n",
    "suffix = '.jpg'\n",
    "img_list = []\n",
    "yset = []\n",
    "# create labels list and 2 dicts for 2 way mapping\n",
    "labels = []\n",
    "# key = label value = number\n",
    "label_yval = dict()\n",
    "# key = number value = label\n",
    "yval_label = dict()"
   ]
  },
  {
   "cell_type": "markdown",
   "metadata": {},
   "source": [
    "## Run and choose the column name that coresponds with the column label to be predicted"
   ]
  },
  {
   "cell_type": "code",
   "execution_count": 208,
   "metadata": {
    "scrolled": false
   },
   "outputs": [
    {
     "data": {
      "application/vnd.jupyter.widget-view+json": {
       "model_id": "cf8b566b0ece4efea01f2a4df668c008",
       "version_major": 2,
       "version_minor": 0
      },
      "text/plain": [
       "interactive(children=(Dropdown(description='predictions_menu', options={'Co ppm (INAA)#number': 'Co ppm (INAA)…"
      ]
     },
     "metadata": {},
     "output_type": "display_data"
    }
   ],
   "source": [
    "# use csv file to grab images/labels\n",
    "csv_path = \"../../temp_csvs/\" + csv_file\n",
    "df = pd.read_csv(csv_path)\n",
    "\n",
    "#generate image path\n",
    "lower_case_csv = csv_file.lower()\n",
    "img_path = \"../../images/\" + lower_case_csv.split(\".\")[0]\n",
    "\n",
    "# Choose column of label for prediction\n",
    "toPredict = list(df.columns.values)\n",
    "\n",
    "pred_menu = {}\n",
    "for i in range(0, len(toPredict)):\n",
    "    pred_menu[toPredict[i]] = toPredict[i]\n",
    "\n",
    "def f(predictions_menu):\n",
    "    return predictions_menu\n",
    "# choose which label for predictions\n",
    "out2 = interact(f, predictions_menu=pred_menu)"
   ]
  },
  {
   "cell_type": "markdown",
   "metadata": {},
   "source": [
    "## Grab the images and configure them for predicting"
   ]
  },
  {
   "cell_type": "markdown",
   "metadata": {},
   "source": [
    "### This might take a little while depending on the size of the dataset"
   ]
  },
  {
   "cell_type": "code",
   "execution_count": 209,
   "metadata": {},
   "outputs": [],
   "source": [
    "# grab chosen column names\n",
    "nameCol = df['#img']\n",
    "predCol = df[out2.widget.result]\n",
    "\n",
    "# add all fabric columns to the y set\n",
    "for i in range (0,len(predCol)):\n",
    "    labels.append(predCol[i])\n",
    "\n",
    "# grab all unique labels\n",
    "uni_labels = set(labels)\n",
    "uni_labels = list(uni_labels)\n",
    "\n",
    "# assign each label a dict key number\n",
    "for i in range(0,len(uni_labels)):\n",
    "    yval_label[i] = uni_labels[i]\n",
    "    label_yval[uni_labels[i]] = i\n",
    "\n",
    "# create list of keys associated with their labels\n",
    "for i in range (0, len(labels)):\n",
    "    yset.append(label_yval[labels[i]])\n",
    "    \n",
    "# gather images from path created from file names in csv file\n",
    "for i in range (0,len(nameCol)):\n",
    "    base_filename = nameCol[i]\n",
    "    fileName = os.path.join(img_path, base_filename + suffix)\n",
    "    im = cv2.imread(fileName)\n",
    "    im = cv2.resize(im, (28,28))\n",
    "    im = img_to_array(im)\n",
    "    img_list.append(im)\n",
    "\n",
    "# Shuffle the data\n",
    "p = np.random.permutation(len(yset))\n",
    "\n",
    "# Relable for splitting sets\n",
    "Y = []\n",
    "X = []\n",
    "for i in range(0,len(yset)):\n",
    "    Y.append(yset[p[i]])\n",
    "    X.append(img_list[p[i]])\n",
    "    \n",
    "# split the test and training set 75:25\n",
    "split = int(len(X)*(.75))\n",
    "xtrain = X[:split]\n",
    "xtest = X[split:]\n",
    "ytrain = Y[:split]\n",
    "ytest = Y[split:]\n",
    "\n",
    "# transform to arrays\n",
    "trainX = np.array(xtrain, dtype=\"float\")/225.0\n",
    "testX = np.array(xtest, dtype =\"float\")/225.0\n",
    "\n",
    "ytrain = np.array(ytrain)\n",
    "ytest = np.array(ytest)\n",
    "\n",
    "# parsed Y data containers\n",
    "trainY = []\n",
    "testY = []\n",
    "\n",
    "# convert labels from int to vectors\n",
    "trainY = np_utils.to_categorical(ytrain,len(uni_labels))\n",
    "testY = np_utils.to_categorical(ytest,len(uni_labels))\n",
    "\n",
    "# construct the image generator for data augmentation\n",
    "aug = ImageDataGenerator(rotation_range=30, width_shift_range=0.1,\n",
    "                        height_shift_range=0.1, shear_range=0.2, zoom_range=0.2,\n",
    "                        horizontal_flip=True, fill_mode=\"nearest\")\n",
    "# initialize the model\n",
    "model = LeNet.build(width=28, height=28, depth=3, classes=len(uni_labels))\n",
    "opt = Adam(lr=INIT_LR, decay=INIT_LR / EPOCHS)\n",
    "model.compile(loss=\"categorical_crossentropy\", optimizer=opt,\n",
    "                metrics=[\"accuracy\"])"
   ]
  },
  {
   "cell_type": "markdown",
   "metadata": {},
   "source": [
    "## Train the predictive model"
   ]
  },
  {
   "cell_type": "markdown",
   "metadata": {},
   "source": [
    "### This is relative to the size of the data set and may take a few minutes "
   ]
  },
  {
   "cell_type": "code",
   "execution_count": 210,
   "metadata": {},
   "outputs": [
    {
     "name": "stdout",
     "output_type": "stream",
     "text": [
      "Epoch 1/75\n",
      "4/4 [==============================] - 3s 745ms/step - loss: 2.8694 - acc: 0.1444 - val_loss: 2.8015 - val_acc: 0.2159\n",
      "Epoch 2/75\n",
      "4/4 [==============================] - 3s 710ms/step - loss: 2.7861 - acc: 0.2031 - val_loss: 2.8074 - val_acc: 0.1477\n",
      "Epoch 3/75\n",
      "4/4 [==============================] - 2s 586ms/step - loss: 2.5043 - acc: 0.1980 - val_loss: 3.1462 - val_acc: 0.1705\n",
      "Epoch 4/75\n",
      "4/4 [==============================] - 2s 558ms/step - loss: 2.8021 - acc: 0.2005 - val_loss: 2.7582 - val_acc: 0.2614\n",
      "Epoch 5/75\n",
      "4/4 [==============================] - 2s 583ms/step - loss: 2.7450 - acc: 0.1869 - val_loss: 2.7785 - val_acc: 0.1477\n",
      "Epoch 6/75\n",
      "4/4 [==============================] - 2s 561ms/step - loss: 2.6399 - acc: 0.1856 - val_loss: 2.9870 - val_acc: 0.1705\n",
      "Epoch 7/75\n",
      "4/4 [==============================] - 2s 585ms/step - loss: 2.4898 - acc: 0.2896 - val_loss: 3.0050 - val_acc: 0.1705\n",
      "Epoch 8/75\n",
      "4/4 [==============================] - 2s 540ms/step - loss: 2.6369 - acc: 0.2005 - val_loss: 2.7495 - val_acc: 0.1705\n",
      "Epoch 9/75\n",
      "4/4 [==============================] - 3s 725ms/step - loss: 2.6152 - acc: 0.2227 - val_loss: 2.8979 - val_acc: 0.1705\n",
      "Epoch 10/75\n",
      "4/4 [==============================] - 2s 618ms/step - loss: 2.5791 - acc: 0.3788 - val_loss: 2.8980 - val_acc: 0.2045\n",
      "Epoch 11/75\n",
      "4/4 [==============================] - 2s 580ms/step - loss: 2.6254 - acc: 0.2516 - val_loss: 2.6692 - val_acc: 0.2500\n",
      "Epoch 12/75\n",
      "4/4 [==============================] - 2s 606ms/step - loss: 2.5634 - acc: 0.2789 - val_loss: 2.8386 - val_acc: 0.1818\n",
      "Epoch 13/75\n",
      "4/4 [==============================] - 2s 587ms/step - loss: 2.5043 - acc: 0.2640 - val_loss: 2.8948 - val_acc: 0.1932\n",
      "Epoch 14/75\n",
      "4/4 [==============================] - 2s 567ms/step - loss: 2.4720 - acc: 0.3284 - val_loss: 3.0153 - val_acc: 0.1818\n",
      "Epoch 15/75\n",
      "4/4 [==============================] - 3s 711ms/step - loss: 2.4567 - acc: 0.3125 - val_loss: 2.7162 - val_acc: 0.2500\n",
      "Epoch 16/75\n",
      "4/4 [==============================] - 2s 566ms/step - loss: 2.4462 - acc: 0.2913 - val_loss: 2.7045 - val_acc: 0.2500\n",
      "Epoch 17/75\n",
      "4/4 [==============================] - 2s 587ms/step - loss: 2.4459 - acc: 0.3325 - val_loss: 3.0338 - val_acc: 0.1818\n",
      "Epoch 18/75\n",
      "4/4 [==============================] - 2s 558ms/step - loss: 2.2352 - acc: 0.3668 - val_loss: 3.1352 - val_acc: 0.2500\n",
      "Epoch 19/75\n",
      "4/4 [==============================] - 3s 736ms/step - loss: 2.4001 - acc: 0.3320 - val_loss: 3.0072 - val_acc: 0.1818\n",
      "Epoch 20/75\n",
      "4/4 [==============================] - 2s 582ms/step - loss: 2.3646 - acc: 0.3791 - val_loss: 2.7413 - val_acc: 0.2727\n",
      "Epoch 21/75\n",
      "4/4 [==============================] - 2s 605ms/step - loss: 2.3260 - acc: 0.3490 - val_loss: 3.0215 - val_acc: 0.1932\n",
      "Epoch 22/75\n",
      "4/4 [==============================] - 3s 695ms/step - loss: 2.2956 - acc: 0.3516 - val_loss: 2.7198 - val_acc: 0.2955\n",
      "Epoch 23/75\n",
      "4/4 [==============================] - 2s 532ms/step - loss: 2.2404 - acc: 0.3804 - val_loss: 3.1754 - val_acc: 0.2500\n",
      "Epoch 24/75\n",
      "4/4 [==============================] - 2s 567ms/step - loss: 2.2520 - acc: 0.3366 - val_loss: 2.8246 - val_acc: 0.2159\n",
      "Epoch 25/75\n",
      "4/4 [==============================] - 2s 557ms/step - loss: 2.3378 - acc: 0.3531 - val_loss: 2.9411 - val_acc: 0.1932\n",
      "Epoch 26/75\n",
      "4/4 [==============================] - 2s 501ms/step - loss: 2.3586 - acc: 0.3106 - val_loss: 2.7526 - val_acc: 0.2841\n",
      "Epoch 27/75\n",
      "4/4 [==============================] - 3s 665ms/step - loss: 2.2803 - acc: 0.3594 - val_loss: 3.0578 - val_acc: 0.1932\n",
      "Epoch 28/75\n",
      "4/4 [==============================] - 2s 538ms/step - loss: 2.0045 - acc: 0.4778 - val_loss: 2.8820 - val_acc: 0.2614\n",
      "Epoch 29/75\n",
      "4/4 [==============================] - 2s 402ms/step - loss: 2.2978 - acc: 0.3170 - val_loss: 2.7591 - val_acc: 0.2727\n",
      "Epoch 30/75\n",
      "4/4 [==============================] - 3s 673ms/step - loss: 2.1909 - acc: 0.3789 - val_loss: 3.1258 - val_acc: 0.2045\n",
      "Epoch 31/75\n",
      "4/4 [==============================] - 2s 538ms/step - loss: 2.1394 - acc: 0.4175 - val_loss: 2.6019 - val_acc: 0.2955\n",
      "Epoch 32/75\n",
      "4/4 [==============================] - 2s 517ms/step - loss: 2.2210 - acc: 0.3531 - val_loss: 2.9580 - val_acc: 0.2159\n",
      "Epoch 33/75\n",
      "4/4 [==============================] - 3s 656ms/step - loss: 2.1386 - acc: 0.4180 - val_loss: 2.9131 - val_acc: 0.2614\n",
      "Epoch 34/75\n",
      "4/4 [==============================] - 2s 520ms/step - loss: 2.0982 - acc: 0.4039 - val_loss: 2.7709 - val_acc: 0.3068\n",
      "Epoch 35/75\n",
      "4/4 [==============================] - 2s 564ms/step - loss: 2.2331 - acc: 0.3750 - val_loss: 3.3406 - val_acc: 0.1932\n",
      "Epoch 36/75\n",
      "4/4 [==============================] - 3s 656ms/step - loss: 2.0989 - acc: 0.3906 - val_loss: 2.5393 - val_acc: 0.3182\n",
      "Epoch 37/75\n",
      "4/4 [==============================] - 2s 418ms/step - loss: 2.1575 - acc: 0.3698 - val_loss: 3.2274 - val_acc: 0.1932\n",
      "Epoch 38/75\n",
      "4/4 [==============================] - 2s 541ms/step - loss: 2.0028 - acc: 0.3931 - val_loss: 3.1923 - val_acc: 0.2386\n",
      "Epoch 39/75\n",
      "4/4 [==============================] - 3s 652ms/step - loss: 2.2351 - acc: 0.3789 - val_loss: 3.0187 - val_acc: 0.2841\n",
      "Epoch 40/75\n",
      "4/4 [==============================] - 2s 549ms/step - loss: 2.1565 - acc: 0.3808 - val_loss: 2.7927 - val_acc: 0.2955\n",
      "Epoch 41/75\n",
      "4/4 [==============================] - 2s 538ms/step - loss: 2.2101 - acc: 0.3750 - val_loss: 2.9867 - val_acc: 0.2159\n",
      "Epoch 42/75\n",
      "4/4 [==============================] - 3s 685ms/step - loss: 1.9990 - acc: 0.4141 - val_loss: 2.7222 - val_acc: 0.2841\n",
      "Epoch 43/75\n",
      "4/4 [==============================] - 2s 542ms/step - loss: 1.9348 - acc: 0.4121 - val_loss: 3.2258 - val_acc: 0.2727\n",
      "Epoch 44/75\n",
      "4/4 [==============================] - 2s 410ms/step - loss: 1.8670 - acc: 0.4903 - val_loss: 3.1334 - val_acc: 0.2500\n",
      "Epoch 45/75\n",
      "4/4 [==============================] - 3s 686ms/step - loss: 2.0551 - acc: 0.4141 - val_loss: 3.0458 - val_acc: 0.2841\n",
      "Epoch 46/75\n",
      "4/4 [==============================] - 2s 543ms/step - loss: 1.9084 - acc: 0.4423 - val_loss: 3.4537 - val_acc: 0.1818\n",
      "Epoch 47/75\n",
      "4/4 [==============================] - 3s 684ms/step - loss: 2.0413 - acc: 0.4414 - val_loss: 2.7824 - val_acc: 0.3182\n",
      "Epoch 48/75\n",
      "4/4 [==============================] - 2s 397ms/step - loss: 2.0721 - acc: 0.3479 - val_loss: 3.0776 - val_acc: 0.2727\n",
      "Epoch 49/75\n",
      "4/4 [==============================] - 3s 671ms/step - loss: 1.9217 - acc: 0.4258 - val_loss: 2.7397 - val_acc: 0.3068\n",
      "Epoch 50/75\n",
      "4/4 [==============================] - 2s 540ms/step - loss: 1.9335 - acc: 0.4517 - val_loss: 2.7187 - val_acc: 0.3068\n",
      "Epoch 51/75\n",
      "4/4 [==============================] - 3s 645ms/step - loss: 1.8880 - acc: 0.4423 - val_loss: 3.8588 - val_acc: 0.2045\n",
      "Epoch 52/75\n",
      "4/4 [==============================] - 3s 703ms/step - loss: 2.1623 - acc: 0.3789 - val_loss: 2.3603 - val_acc: 0.3636\n",
      "Epoch 53/75\n",
      "4/4 [==============================] - 2s 407ms/step - loss: 1.8715 - acc: 0.4684 - val_loss: 3.2521 - val_acc: 0.2045\n",
      "Epoch 54/75\n",
      "4/4 [==============================] - 3s 683ms/step - loss: 1.8915 - acc: 0.4375 - val_loss: 2.7353 - val_acc: 0.3068\n",
      "Epoch 55/75\n",
      "4/4 [==============================] - 2s 549ms/step - loss: 2.0864 - acc: 0.3614 - val_loss: 3.4846 - val_acc: 0.1932\n",
      "Epoch 56/75\n",
      "4/4 [==============================] - 2s 569ms/step - loss: 2.0343 - acc: 0.4039 - val_loss: 2.6041 - val_acc: 0.3295\n",
      "Epoch 57/75\n",
      "4/4 [==============================] - 3s 687ms/step - loss: 1.8860 - acc: 0.4297 - val_loss: 3.2051 - val_acc: 0.1932\n",
      "Epoch 58/75\n",
      "4/4 [==============================] - 2s 413ms/step - loss: 1.9730 - acc: 0.4285 - val_loss: 2.8563 - val_acc: 0.2955\n",
      "Epoch 59/75\n",
      "4/4 [==============================] - 2s 534ms/step - loss: 1.8714 - acc: 0.3874 - val_loss: 3.1938 - val_acc: 0.2386\n",
      "Epoch 60/75\n",
      "4/4 [==============================] - 3s 693ms/step - loss: 1.8836 - acc: 0.4297 - val_loss: 2.8107 - val_acc: 0.2955\n",
      "Epoch 61/75\n",
      "4/4 [==============================] - 2s 554ms/step - loss: 1.9016 - acc: 0.4327 - val_loss: 2.7761 - val_acc: 0.2955\n",
      "Epoch 62/75\n",
      "4/4 [==============================] - 2s 539ms/step - loss: 1.8426 - acc: 0.4492 - val_loss: 2.8333 - val_acc: 0.2500\n",
      "Epoch 63/75\n"
     ]
    },
    {
     "name": "stdout",
     "output_type": "stream",
     "text": [
      "4/4 [==============================] - 3s 698ms/step - loss: 1.8715 - acc: 0.4492 - val_loss: 2.9207 - val_acc: 0.2500\n",
      "Epoch 64/75\n",
      "4/4 [==============================] - 2s 411ms/step - loss: 1.7509 - acc: 0.4722 - val_loss: 3.2327 - val_acc: 0.2614\n",
      "Epoch 65/75\n",
      "4/4 [==============================] - 3s 631ms/step - loss: 1.8123 - acc: 0.4453 - val_loss: 3.3598 - val_acc: 0.2500\n",
      "Epoch 66/75\n",
      "4/4 [==============================] - 3s 677ms/step - loss: 1.7989 - acc: 0.4688 - val_loss: 3.0018 - val_acc: 0.2955\n",
      "Epoch 67/75\n",
      "4/4 [==============================] - 2s 563ms/step - loss: 1.9771 - acc: 0.3766 - val_loss: 3.0420 - val_acc: 0.2500\n",
      "Epoch 68/75\n",
      "4/4 [==============================] - 2s 535ms/step - loss: 1.7759 - acc: 0.4711 - val_loss: 2.8486 - val_acc: 0.2955\n",
      "Epoch 69/75\n",
      "4/4 [==============================] - 2s 548ms/step - loss: 1.8870 - acc: 0.3915 - val_loss: 3.8212 - val_acc: 0.2045\n",
      "Epoch 70/75\n",
      "4/4 [==============================] - 2s 570ms/step - loss: 1.9331 - acc: 0.3890 - val_loss: 2.7674 - val_acc: 0.3068\n",
      "Epoch 71/75\n",
      "4/4 [==============================] - 2s 541ms/step - loss: 1.9348 - acc: 0.4026 - val_loss: 3.2069 - val_acc: 0.2159\n",
      "Epoch 72/75\n",
      "4/4 [==============================] - 3s 668ms/step - loss: 1.8076 - acc: 0.4375 - val_loss: 3.0770 - val_acc: 0.2386\n",
      "Epoch 73/75\n",
      "4/4 [==============================] - 2s 559ms/step - loss: 1.7495 - acc: 0.4534 - val_loss: 3.3875 - val_acc: 0.2500\n",
      "Epoch 74/75\n",
      "4/4 [==============================] - 2s 578ms/step - loss: 1.7840 - acc: 0.4327 - val_loss: 3.7061 - val_acc: 0.2273\n",
      "Epoch 75/75\n",
      "4/4 [==============================] - 2s 557ms/step - loss: 1.6764 - acc: 0.4724 - val_loss: 2.8437 - val_acc: 0.2500\n"
     ]
    }
   ],
   "source": [
    "# train the network\n",
    "H = model.fit_generator(aug.flow(trainX, trainY, batch_size=BS),\n",
    "    validation_data=(testX, testY), steps_per_epoch=len(trainX) // BS,\n",
    "    epochs=EPOCHS, verbose=1)"
   ]
  },
  {
   "cell_type": "markdown",
   "metadata": {},
   "source": [
    "## Take the original data and predict based on the model"
   ]
  },
  {
   "cell_type": "code",
   "execution_count": 211,
   "metadata": {},
   "outputs": [
    {
     "name": "stdout",
     "output_type": "stream",
     "text": [
      "Accuracy: 0.3721590909090909\n"
     ]
    }
   ],
   "source": [
    "# Reshape original input data images for predicting\n",
    "img_check = np.array(img_list, dtype =\"float\")/225.0\n",
    "\n",
    "predictionsMade = []\n",
    "preds = model.predict(img_check)\n",
    "\n",
    "# Run all data through the prediction model that was created\n",
    "for i in range (0,len(img_check)):\n",
    "    predIndex = np.where(preds[i] == np.amax(preds[i]))\n",
    "    prediction = int(predIndex[0][0])\n",
    "    predictionsMade.append(prediction)\n",
    "    \n",
    "# Count how many correct predictions were made\n",
    "correct = 0\n",
    "for i in range (0,len(predictionsMade)):\n",
    "    if(predictionsMade[i] == yset[i]):\n",
    "        correct += 1 \n",
    "        \n",
    "print(\"Accuracy: \" + str(correct/len(yset)))"
   ]
  },
  {
   "cell_type": "code",
   "execution_count": 212,
   "metadata": {},
   "outputs": [],
   "source": [
    "#Generate model file and save\n",
    "modelName = user + \"_cnn_\" + out2.widget.result + \"_\" + str(epochNum.widget.result) + \"_\" + str(batchNum.widget.result) + \".h5\"\n",
    "modelPath = \"models/\"\n",
    "\n",
    "model.save(os.path.join(modelPath, modelName))"
   ]
  },
  {
   "cell_type": "code",
   "execution_count": 213,
   "metadata": {},
   "outputs": [],
   "source": [
    "#Load model\n",
    "from keras.models import load_model\n",
    "model2 = load_model(os.path.join(modelPath, modelName))"
   ]
  },
  {
   "cell_type": "code",
   "execution_count": 214,
   "metadata": {},
   "outputs": [
    {
     "data": {
      "text/plain": [
       "[10,\n",
       " 9,\n",
       " 10,\n",
       " 9,\n",
       " 10,\n",
       " 9,\n",
       " 10,\n",
       " 9,\n",
       " 5,\n",
       " 10,\n",
       " 12,\n",
       " 10,\n",
       " 10,\n",
       " 21,\n",
       " 9,\n",
       " 9,\n",
       " 10,\n",
       " 19,\n",
       " 9,\n",
       " 9,\n",
       " 10,\n",
       " 21,\n",
       " 10,\n",
       " 10,\n",
       " 12,\n",
       " 9,\n",
       " 9,\n",
       " 9,\n",
       " 9,\n",
       " 21,\n",
       " 10,\n",
       " 10,\n",
       " 12,\n",
       " 9,\n",
       " 12,\n",
       " 9,\n",
       " 12,\n",
       " 10,\n",
       " 12,\n",
       " 18,\n",
       " 9,\n",
       " 9,\n",
       " 9,\n",
       " 9,\n",
       " 10,\n",
       " 3,\n",
       " 10,\n",
       " 10,\n",
       " 12,\n",
       " 5,\n",
       " 9,\n",
       " 12,\n",
       " 10,\n",
       " 21,\n",
       " 9,\n",
       " 9,\n",
       " 10,\n",
       " 10,\n",
       " 10,\n",
       " 21,\n",
       " 9,\n",
       " 9,\n",
       " 9,\n",
       " 9,\n",
       " 10,\n",
       " 10,\n",
       " 9,\n",
       " 10,\n",
       " 10,\n",
       " 21,\n",
       " 10,\n",
       " 10,\n",
       " 10,\n",
       " 9,\n",
       " 21,\n",
       " 9,\n",
       " 10,\n",
       " 10,\n",
       " 10,\n",
       " 10,\n",
       " 10,\n",
       " 10,\n",
       " 9,\n",
       " 9,\n",
       " 21,\n",
       " 21,\n",
       " 9,\n",
       " 9,\n",
       " 12,\n",
       " 21,\n",
       " 18,\n",
       " 21,\n",
       " 10,\n",
       " 21,\n",
       " 9,\n",
       " 9,\n",
       " 12,\n",
       " 9,\n",
       " 9,\n",
       " 9,\n",
       " 10,\n",
       " 21,\n",
       " 9,\n",
       " 9,\n",
       " 10,\n",
       " 21,\n",
       " 21,\n",
       " 9,\n",
       " 10,\n",
       " 21,\n",
       " 9,\n",
       " 9,\n",
       " 9,\n",
       " 9,\n",
       " 9,\n",
       " 9,\n",
       " 10,\n",
       " 10,\n",
       " 12,\n",
       " 9,\n",
       " 10,\n",
       " 21,\n",
       " 10,\n",
       " 10,\n",
       " 9,\n",
       " 9,\n",
       " 9,\n",
       " 12,\n",
       " 10,\n",
       " 3,\n",
       " 10,\n",
       " 10,\n",
       " 10,\n",
       " 10,\n",
       " 10,\n",
       " 10,\n",
       " 10,\n",
       " 10,\n",
       " 10,\n",
       " 10,\n",
       " 10,\n",
       " 3,\n",
       " 10,\n",
       " 10,\n",
       " 10,\n",
       " 10,\n",
       " 10,\n",
       " 10,\n",
       " 10,\n",
       " 6,\n",
       " 10,\n",
       " 10,\n",
       " 10,\n",
       " 10,\n",
       " 10,\n",
       " 10,\n",
       " 10,\n",
       " 10,\n",
       " 10,\n",
       " 10,\n",
       " 10,\n",
       " 10,\n",
       " 10,\n",
       " 10,\n",
       " 10,\n",
       " 10,\n",
       " 10,\n",
       " 10,\n",
       " 10,\n",
       " 10,\n",
       " 10,\n",
       " 10,\n",
       " 10,\n",
       " 10,\n",
       " 10,\n",
       " 10,\n",
       " 10,\n",
       " 17,\n",
       " 10,\n",
       " 10,\n",
       " 10,\n",
       " 10,\n",
       " 10,\n",
       " 10,\n",
       " 10,\n",
       " 10,\n",
       " 10,\n",
       " 10,\n",
       " 10,\n",
       " 3,\n",
       " 10,\n",
       " 21,\n",
       " 10,\n",
       " 10,\n",
       " 10,\n",
       " 10,\n",
       " 10,\n",
       " 10,\n",
       " 10,\n",
       " 10,\n",
       " 10,\n",
       " 17,\n",
       " 10,\n",
       " 10,\n",
       " 10,\n",
       " 10,\n",
       " 10,\n",
       " 10,\n",
       " 10,\n",
       " 21,\n",
       " 10,\n",
       " 21,\n",
       " 10,\n",
       " 10,\n",
       " 10,\n",
       " 10,\n",
       " 12,\n",
       " 10,\n",
       " 9,\n",
       " 10,\n",
       " 10,\n",
       " 10,\n",
       " 10,\n",
       " 10,\n",
       " 10,\n",
       " 3,\n",
       " 10,\n",
       " 10,\n",
       " 10,\n",
       " 10,\n",
       " 10,\n",
       " 18,\n",
       " 10,\n",
       " 17,\n",
       " 10,\n",
       " 10,\n",
       " 10,\n",
       " 17,\n",
       " 10,\n",
       " 10,\n",
       " 12,\n",
       " 10,\n",
       " 12,\n",
       " 10,\n",
       " 10,\n",
       " 10,\n",
       " 10,\n",
       " 10,\n",
       " 12,\n",
       " 10,\n",
       " 10,\n",
       " 10,\n",
       " 12,\n",
       " 3,\n",
       " 10,\n",
       " 10,\n",
       " 10,\n",
       " 10,\n",
       " 18,\n",
       " 10,\n",
       " 10,\n",
       " 10,\n",
       " 10,\n",
       " 10,\n",
       " 10,\n",
       " 3,\n",
       " 10,\n",
       " 10,\n",
       " 12,\n",
       " 10,\n",
       " 12,\n",
       " 12,\n",
       " 10,\n",
       " 10,\n",
       " 18,\n",
       " 9,\n",
       " 12,\n",
       " 9,\n",
       " 12,\n",
       " 12,\n",
       " 12,\n",
       " 10,\n",
       " 18,\n",
       " 12,\n",
       " 10,\n",
       " 10,\n",
       " 10,\n",
       " 10,\n",
       " 10,\n",
       " 10,\n",
       " 18,\n",
       " 10,\n",
       " 12,\n",
       " 10,\n",
       " 10,\n",
       " 10,\n",
       " 9,\n",
       " 10,\n",
       " 12,\n",
       " 12,\n",
       " 10,\n",
       " 3,\n",
       " 10,\n",
       " 10,\n",
       " 10,\n",
       " 1,\n",
       " 9,\n",
       " 12,\n",
       " 10,\n",
       " 10,\n",
       " 10,\n",
       " 10,\n",
       " 12,\n",
       " 12,\n",
       " 9,\n",
       " 12,\n",
       " 10,\n",
       " 10,\n",
       " 10,\n",
       " 10,\n",
       " 7,\n",
       " 10,\n",
       " 12,\n",
       " 10,\n",
       " 10,\n",
       " 12,\n",
       " 10,\n",
       " 7,\n",
       " 10,\n",
       " 10,\n",
       " 10,\n",
       " 10,\n",
       " 10,\n",
       " 17,\n",
       " 10,\n",
       " 10,\n",
       " 10,\n",
       " 3,\n",
       " 10,\n",
       " 3,\n",
       " 12,\n",
       " 10,\n",
       " 12,\n",
       " 12,\n",
       " 10,\n",
       " 21,\n",
       " 10,\n",
       " 10,\n",
       " 10,\n",
       " 10,\n",
       " 10,\n",
       " 21]"
      ]
     },
     "execution_count": 214,
     "metadata": {},
     "output_type": "execute_result"
    }
   ],
   "source": [
    "predictionsMade"
   ]
  },
  {
   "cell_type": "markdown",
   "metadata": {},
   "source": [
    "## Enter a new header for the prediction column"
   ]
  },
  {
   "cell_type": "code",
   "execution_count": 164,
   "metadata": {},
   "outputs": [
    {
     "name": "stdout",
     "output_type": "stream",
     "text": [
      "Input new column Header Label: \n"
     ]
    },
    {
     "data": {
      "application/vnd.jupyter.widget-view+json": {
       "model_id": "5101a2a255be42449b03612e96e72fd8",
       "version_major": 2,
       "version_minor": 0
      },
      "text/plain": [
       "Text(value='', placeholder='Type label here')"
      ]
     },
     "metadata": {},
     "output_type": "display_data"
    },
    {
     "data": {
      "application/vnd.jupyter.widget-view+json": {
       "model_id": "095fa4745d194cf69707d0f682e6cff9",
       "version_major": 2,
       "version_minor": 0
      },
      "text/plain": [
       "Text(value='', placeholder='New Header will be displayed here')"
      ]
     },
     "metadata": {},
     "output_type": "display_data"
    }
   ],
   "source": [
    "# Translate back to original csv label names\n",
    "finalPred = []\n",
    "for i in range (0,len(predictionsMade)):\n",
    "    finalPred.append(yval_label[predictionsMade[i]])\n",
    "\n",
    "from IPython.display import display\n",
    "input_text = widgets.Text(\n",
    "    value=None,\n",
    "    placeholder='Type label here',\n",
    "    disabled=False\n",
    ")\n",
    "output_text = widgets.Text(\n",
    "    value=None,\n",
    "    placeholder='New Header will be displayed here',\n",
    "    disabled=False\n",
    ")\n",
    "\n",
    "def bind_input_to_output(sender):\n",
    "    output_text.value = input_text.value\n",
    "\n",
    "input_text.observe(bind_input_to_output)\n",
    "\n",
    "print(\"Input new column Header Label: \")\n",
    "\n",
    "display(input_text)\n",
    "display(output_text)"
   ]
  },
  {
   "cell_type": "markdown",
   "metadata": {},
   "source": [
    "## Write the predictions back to the original CSV"
   ]
  },
  {
   "cell_type": "code",
   "execution_count": 132,
   "metadata": {},
   "outputs": [
    {
     "name": "stdout",
     "output_type": "stream",
     "text": [
      "kommos_j_test_1\n"
     ]
    }
   ],
   "source": [
    "# Append the new column w/ it's new column name\n",
    "df[input_text.value] = finalPred\n",
    "print(input_text.value)\n",
    "\n",
    "# new file name\n",
    "new_file =  csv_file[:-4]+'_v1.csv'\n",
    "df.to_csv(new_file, index=None)"
   ]
  },
  {
   "cell_type": "code",
   "execution_count": 130,
   "metadata": {
    "scrolled": true
   },
   "outputs": [
    {
     "name": "stdout",
     "output_type": "stream",
     "text": [
      "Input survey name here:\n"
     ]
    },
    {
     "data": {
      "application/vnd.jupyter.widget-view+json": {
       "model_id": "f8bfb4f54ab4447a937b61814be0e71b",
       "version_major": 2,
       "version_minor": 0
      },
      "text/plain": [
       "Text(value='')"
      ]
     },
     "metadata": {},
     "output_type": "display_data"
    },
    {
     "data": {
      "application/vnd.jupyter.widget-view+json": {
       "model_id": "9bab7b6fe3504ae28707a82b2e4d3bb8",
       "version_major": 2,
       "version_minor": 0
      },
      "text/plain": [
       "Text(value='')"
      ]
     },
     "metadata": {},
     "output_type": "display_data"
    }
   ],
   "source": [
    "#Input survey name\n",
    "\n",
    "from IPython.display import display\n",
    "input_text = widgets.Text()\n",
    "output_text = widgets.Text()\n",
    "\n",
    "def bind_input_to_output(sender):\n",
    "    output_text.value = input_text.value\n",
    "\n",
    "# Tell the text input widget to call bind_input_to_output() on submit\n",
    "input_text.observe(bind_input_to_output)\n",
    "\n",
    "print(\"Input survey name here:\")\n",
    "# Display input text box widget for input\n",
    "display(input_text)\n",
    "\n",
    "display(output_text)\n",
    "\n",
    "survey_name = output_text.value"
   ]
  },
  {
   "cell_type": "code",
   "execution_count": 136,
   "metadata": {},
   "outputs": [
    {
     "name": "stdout",
     "output_type": "stream",
     "text": [
      "kommos_j_test_1\n",
      "https://bioregional.ucsd.edu/suave/surveys/kommos_Oct2017/kommos_Oct2017.dzc\n"
     ]
    }
   ],
   "source": [
    "print(input_text.value)\n",
    "print(dzc_file)\n"
   ]
  },
  {
   "cell_type": "code",
   "execution_count": 135,
   "metadata": {},
   "outputs": [
    {
     "name": "stdout",
     "output_type": "stream",
     "text": [
      "200 OK\n",
      "https://suave-dev.sdsc.edu/main/file=zaslavsk_.csv&views=1110001&view=grid\n"
     ]
    }
   ],
   "source": [
    "\n",
    "import requests\n",
    "upload_url = \"http://suave.sdsc.edu:3001/uploadCSV\"\n",
    "upload_data = {'name': input_text.value, 'dzc': dzc_file, 'user':user}\n",
    "files = {\"file\": open(new_file, \"rb\")}\n",
    "r = requests.post(upload_url, files=files, data=upload_data)\n",
    "print(r.status_code, r.reason)\n",
    "\n",
    "regex = re.compile('[^0-9a-zA-Z_]')\n",
    "survey_url = survey_name\n",
    "survey_url =  regex.sub('_', survey_url)\n",
    "\n",
    "url = \"https://suave-dev.sdsc.edu/main/file=\" + user + \"_\" + input_text.value + \".csv\" + \"&views=1110001&view=grid\"\n",
    "print(url)"
   ]
  }
 ],
 "metadata": {
  "kernelspec": {
   "display_name": "Python 3",
   "language": "python",
   "name": "python3"
  },
  "language_info": {
   "codemirror_mode": {
    "name": "ipython",
    "version": 3
   },
   "file_extension": ".py",
   "mimetype": "text/x-python",
   "name": "python",
   "nbconvert_exporter": "python",
   "pygments_lexer": "ipython3",
   "version": "3.5.2"
  }
 },
 "nbformat": 4,
 "nbformat_minor": 2
}
