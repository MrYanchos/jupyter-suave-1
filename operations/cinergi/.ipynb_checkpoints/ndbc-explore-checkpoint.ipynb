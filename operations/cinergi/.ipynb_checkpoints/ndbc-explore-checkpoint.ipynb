{
 "cells": [
  {
   "cell_type": "markdown",
   "metadata": {},
   "source": [
    "## NDBC-Explore \n",
    "## Run the cells in sequence to select dataset and variables to plot for the selected station"
   ]
  },
  {
   "cell_type": "code",
   "execution_count": 31,
   "metadata": {},
   "outputs": [],
   "source": [
    "import pandas as pd\n",
    "import numpy as np\n",
    "import datetime as dt\n",
    "import matplotlib.pyplot as plt\n",
    "import matplotlib.patches as mpatches\n",
    "import matplotlib.dates as mdates\n",
    "import urllib.request, json\n",
    "import helpers\n",
    "from datetime import datetime, date, time\n",
    "from ipywidgets import widgets  \n",
    "from IPython import get_ipython\n",
    "from IPython.display import display\n",
    "from matplotlib import pylab\n",
    "from pylab import *\n",
    "from IPython.display import clear_output"
   ]
  },
  {
   "cell_type": "code",
   "execution_count": 32,
   "metadata": {},
   "outputs": [
    {
     "data": {
      "application/javascript": [
       "function getQueryStringValue (key){  \n",
       "    return unescape(window.location.search.replace(new RegExp(\"^(?:.*[&\\\\?]\" + escape(key).replace(/[\\.\\+\\*]/g, \"\\\\$&\") + \"(?:\\\\=([^&]*))?)?.*$\", \"i\"), \"$1\"));\n",
       "}\n",
       "IPython.notebook.kernel.execute(\"docID='\".concat(getQueryStringValue(\"docID\")).concat(\"'\"));"
      ],
      "text/plain": [
       "<IPython.core.display.Javascript object>"
      ]
     },
     "metadata": {},
     "output_type": "display_data"
    }
   ],
   "source": [
    "%%javascript\n",
    "function getQueryStringValue (key){  \n",
    "    return unescape(window.location.search.replace(new RegExp(\"^(?:.*[&\\\\?]\" + escape(key).replace(/[\\.\\+\\*]/g, \"\\\\$&\") + \"(?:\\\\=([^&]*))?)?.*$\", \"i\"), \"$1\"));\n",
    "}\n",
    "IPython.notebook.kernel.execute(\"docID='\".concat(getQueryStringValue(\"docID\")).concat(\"'\"));"
   ]
  },
  {
   "cell_type": "code",
   "execution_count": 33,
   "metadata": {},
   "outputs": [
    {
     "data": {
      "application/vnd.jupyter.widget-view+json": {
       "model_id": "0ed77b35c87d4dd8b813fc83049f93df",
       "version_major": 2,
       "version_minor": 0
      },
      "text/plain": [
       "interactive(children=(Dropdown(description='notebooks_menu', options=('51. http://www.ndbc.noaa.gov/view_text_…"
      ]
     },
     "metadata": {},
     "output_type": "display_data"
    }
   ],
   "source": [
    "from __future__ import print_function\n",
    "from ipywidgets import interact, interactive, fixed, interact_manual\n",
    "import ipywidgets as widgets\n",
    "\n",
    "#construct url from variable\n",
    "cinergi_url = \"http://cinergi.sdsc.edu/geoportal/rest/metadata/item/\" + docID\n",
    "\n",
    "#Create dropdown Buttons and generate table\n",
    "data_dropdown_options = helpers.create_dropdown_data (cinergi_url)\n",
    "#Create widget with dropdown options from list created above\n",
    "def f(notebooks_menu):\n",
    "    return notebooks_menu\n",
    "# out = interact(f, notebooks_menu=nb_menu);\n",
    "out = interact(f, notebooks_menu=data_dropdown_options.keys());\n"
   ]
  },
  {
   "cell_type": "code",
   "execution_count": 89,
   "metadata": {},
   "outputs": [
    {
     "name": "stdout",
     "output_type": "stream",
     "text": [
      " read file: http://www.ndbc.noaa.gov/view_text_file.php?filename=venf1h2008.txt.gz&dir=data/historical/stdmet/\n"
     ]
    },
    {
     "data": {
      "text/plain": [
       "\"2008 's data (number of variables in each column)\""
      ]
     },
     "metadata": {},
     "output_type": "display_data"
    },
    {
     "data": {
      "text/html": [
       "<style  type=\"text/css\" >\n",
       "</style>  \n",
       "<table id=\"T_a592c9a0_c760_11e8_b2e7_fa163ecfd129\" > \n",
       "<thead>    <tr> \n",
       "        <th class=\"blank level0\" ></th> \n",
       "        <th class=\"col_heading level0 col0\" >year</th> \n",
       "        <th class=\"col_heading level0 col1\" >month</th> \n",
       "        <th class=\"col_heading level0 col2\" >day</th> \n",
       "        <th class=\"col_heading level0 col3\" >hour</th> \n",
       "        <th class=\"col_heading level0 col4\" >minute</th> \n",
       "        <th class=\"col_heading level0 col5\" >WDIR (degT)</th> \n",
       "        <th class=\"col_heading level0 col6\" >WSPD (m/s)</th> \n",
       "        <th class=\"col_heading level0 col7\" >GST (m/s)</th> \n",
       "        <th class=\"col_heading level0 col8\" >WVHT (m)</th> \n",
       "        <th class=\"col_heading level0 col9\" >DPD (sec)</th> \n",
       "        <th class=\"col_heading level0 col10\" >APD (sec)</th> \n",
       "        <th class=\"col_heading level0 col11\" >MWD (deg)</th> \n",
       "        <th class=\"col_heading level0 col12\" >PRES (hPa)</th> \n",
       "        <th class=\"col_heading level0 col13\" >ATMP (degC)</th> \n",
       "        <th class=\"col_heading level0 col14\" >WTMP (degC)</th> \n",
       "        <th class=\"col_heading level0 col15\" >DEWP (degC)</th> \n",
       "        <th class=\"col_heading level0 col16\" >VIS (nmi)</th> \n",
       "        <th class=\"col_heading level0 col17\" >TIDE (ft)</th> \n",
       "        <th class=\"col_heading level0 col18\" >date_time</th> \n",
       "    </tr></thead> \n",
       "<tbody>    <tr> \n",
       "        <th id=\"T_a592c9a0_c760_11e8_b2e7_fa163ecfd129level0_row0\" class=\"row_heading level0 row0\" >0</th> \n",
       "        <td id=\"T_a592c9a0_c760_11e8_b2e7_fa163ecfd129row0_col0\" class=\"data row0 col0\" >8776</td> \n",
       "        <td id=\"T_a592c9a0_c760_11e8_b2e7_fa163ecfd129row0_col1\" class=\"data row0 col1\" >8776</td> \n",
       "        <td id=\"T_a592c9a0_c760_11e8_b2e7_fa163ecfd129row0_col2\" class=\"data row0 col2\" >8776</td> \n",
       "        <td id=\"T_a592c9a0_c760_11e8_b2e7_fa163ecfd129row0_col3\" class=\"data row0 col3\" >8776</td> \n",
       "        <td id=\"T_a592c9a0_c760_11e8_b2e7_fa163ecfd129row0_col4\" class=\"data row0 col4\" >8776</td> \n",
       "        <td id=\"T_a592c9a0_c760_11e8_b2e7_fa163ecfd129row0_col5\" class=\"data row0 col5\" >8729</td> \n",
       "        <td id=\"T_a592c9a0_c760_11e8_b2e7_fa163ecfd129row0_col6\" class=\"data row0 col6\" >8776</td> \n",
       "        <td id=\"T_a592c9a0_c760_11e8_b2e7_fa163ecfd129row0_col7\" class=\"data row0 col7\" >8775</td> \n",
       "        <td id=\"T_a592c9a0_c760_11e8_b2e7_fa163ecfd129row0_col8\" class=\"data row0 col8\" >0</td> \n",
       "        <td id=\"T_a592c9a0_c760_11e8_b2e7_fa163ecfd129row0_col9\" class=\"data row0 col9\" >0</td> \n",
       "        <td id=\"T_a592c9a0_c760_11e8_b2e7_fa163ecfd129row0_col10\" class=\"data row0 col10\" >0</td> \n",
       "        <td id=\"T_a592c9a0_c760_11e8_b2e7_fa163ecfd129row0_col11\" class=\"data row0 col11\" >0</td> \n",
       "        <td id=\"T_a592c9a0_c760_11e8_b2e7_fa163ecfd129row0_col12\" class=\"data row0 col12\" >8776</td> \n",
       "        <td id=\"T_a592c9a0_c760_11e8_b2e7_fa163ecfd129row0_col13\" class=\"data row0 col13\" >8776</td> \n",
       "        <td id=\"T_a592c9a0_c760_11e8_b2e7_fa163ecfd129row0_col14\" class=\"data row0 col14\" >8776</td> \n",
       "        <td id=\"T_a592c9a0_c760_11e8_b2e7_fa163ecfd129row0_col15\" class=\"data row0 col15\" >8728</td> \n",
       "        <td id=\"T_a592c9a0_c760_11e8_b2e7_fa163ecfd129row0_col16\" class=\"data row0 col16\" >0</td> \n",
       "        <td id=\"T_a592c9a0_c760_11e8_b2e7_fa163ecfd129row0_col17\" class=\"data row0 col17\" >5295</td> \n",
       "        <td id=\"T_a592c9a0_c760_11e8_b2e7_fa163ecfd129row0_col18\" class=\"data row0 col18\" >8776</td> \n",
       "    </tr></tbody> \n",
       "</table> "
      ],
      "text/plain": [
       "<pandas.io.formats.style.Styler at 0x7f268f9dbda0>"
      ]
     },
     "metadata": {},
     "output_type": "display_data"
    }
   ],
   "source": [
    "chosen_url = data_dropdown_options[out.widget.result]\n",
    "data = helpers.create_data_from_urls([chosen_url])\n",
    "\n",
    "# Create Key Values for graph.\n",
    "graphKeyVals = []\n",
    "\n",
    "#Run all operations on Data\n",
    "for i in range(len(data)):\n",
    "    data[i].fillna('')\n",
    "    data[i] = helpers.simplify_column_names(data[i])\n",
    "    data[i] = helpers.createDateTime(data[i])\n",
    "    graphKeyVals.append( data[i]['date_time'][0].year)\n",
    "    data[i]['date_time']= data[i]['date_time'].apply(lambda x: x.replace(year= 2012))\n",
    "#Create dropdown Buttons and generate table\n",
    "dropdown_options = helpers.create_dropdowns(data)\n",
    "dropdown_options.append('Choose Variable')"
   ]
  },
  {
   "cell_type": "code",
   "execution_count": 67,
   "metadata": {},
   "outputs": [
    {
     "data": {
      "text/plain": [
       "'http://www.ndbc.noaa.gov/view_text_file.php?filename=venf1h2008.txt.gz&dir=data/historical/stdmet/'"
      ]
     },
     "execution_count": 67,
     "metadata": {},
     "output_type": "execute_result"
    }
   ],
   "source": [
    "chosen_url"
   ]
  },
  {
   "cell_type": "code",
   "execution_count": 68,
   "metadata": {},
   "outputs": [
    {
     "name": "stdout",
     "output_type": "stream",
     "text": [
      "Populating the interactive namespace from numpy and matplotlib\n"
     ]
    },
    {
     "data": {
      "image/png": "[encoded data removed]",
      "text/plain": [
       "<Figure size 1800x1080 with 1 Axes>"
      ]
     },
     "metadata": {},
     "output_type": "display_data"
    }
   ],
   "source": [
    "# Example plot of the image based on values of WTMP (Can be changed to other variables)\n",
    "\n",
    "#Create widget with dropdown options from list created above\n",
    "w = widgets.Dropdown(\n",
    "    options=dropdown_options,\n",
    "    description='Number:',\n",
    "    disabled=False,\n",
    "    value = \"Choose Variable\"\n",
    ")\n",
    "\n",
    "#Describe what happens when the button changes its value\n",
    "def on_change(change):\n",
    "    if change['type'] == 'change' and change['name'] == 'value':\n",
    "        clear_output()\n",
    "        %pylab inline\n",
    "        pylab.rcParams['figure.figsize'] = (25, 15)\n",
    "        helpers.plotTimeSeriesData(data,change['new'],graphKeyVals)\n",
    "\n",
    "w.observe(on_change)\n",
    "display(w)"
   ]
  },
  {
   "cell_type": "code",
   "execution_count": null,
   "metadata": {},
   "outputs": [],
   "source": [
    "#submit usage metadata back to DDH\n"
   ]
  },
  {
   "cell_type": "code",
   "execution_count": 38,
   "metadata": {
    "scrolled": false
   },
   "outputs": [
    {
     "data": {
      "application/vnd.jupyter.widget-view+json": {
       "model_id": "6068148e56174039877437407675c06f",
       "version_major": 2,
       "version_minor": 0
      },
      "text/plain": [
       "interactive(children=(Dropdown(description='suave_menu', options={'Yes': 1, 'No': 0}, value=1), Output()), _do…"
      ]
     },
     "metadata": {},
     "output_type": "display_data"
    },
    {
     "name": "stdout",
     "output_type": "stream",
     "text": [
      "Do you want to send this dataframe to SuAVE?\n"
     ]
    }
   ],
   "source": [
    "#do you want to show it in Suave\n",
    "suave_dict = {\n",
    "    'Yes': 1,\n",
    "    'No': 0,\n",
    "}\n",
    "\n",
    "def f(suave_menu):\n",
    "    return suave_menu\n",
    "\n",
    "suave_interact_out = interact(f, suave_menu=suave_dict)\n",
    "\n",
    "print(\"Do you want to send this dataframe to SuAVE?\")"
   ]
  },
  {
   "cell_type": "code",
   "execution_count": 40,
   "metadata": {
    "scrolled": true
   },
   "outputs": [
    {
     "name": "stdout",
     "output_type": "stream",
     "text": [
      "Input survey name here:\n"
     ]
    },
    {
     "data": {
      "application/vnd.jupyter.widget-view+json": {
       "model_id": "d7f561a7bb5e44bd937a7a1abc330431",
       "version_major": 2,
       "version_minor": 0
      },
      "text/plain": [
       "Text(value='')"
      ]
     },
     "metadata": {},
     "output_type": "display_data"
    },
    {
     "data": {
      "application/vnd.jupyter.widget-view+json": {
       "model_id": "a4bbbf6cc2d1418493a443e576dbfa1d",
       "version_major": 2,
       "version_minor": 0
      },
      "text/plain": [
       "Text(value='')"
      ]
     },
     "metadata": {},
     "output_type": "display_data"
    }
   ],
   "source": [
    "if (suave_interact_out.widget.result == 1):\n",
    "\n",
    "    from IPython.display import display\n",
    "    input_survey_text = widgets.Text()\n",
    "    output_survey_text = widgets.Text()\n",
    "\n",
    "\n",
    "    def bind_input_to_output(sender):\n",
    "        output_survey_text.value = input_survey_text.value\n",
    "\n",
    "    # Tell the text input widget to call bind_input_to_output() on submit\n",
    "    input_survey_text.observe(bind_input_to_output)\n",
    "\n",
    "    print(\"Input survey name here:\")\n",
    "    # Display input text box widget for input\n",
    "    display(input_survey_text)\n",
    "\n",
    "    display(output_survey_text)"
   ]
  },
  {
   "cell_type": "code",
   "execution_count": 41,
   "metadata": {
    "scrolled": true
   },
   "outputs": [
    {
     "name": "stdout",
     "output_type": "stream",
     "text": [
      "Insert user name here:\n"
     ]
    },
    {
     "data": {
      "application/vnd.jupyter.widget-view+json": {
       "model_id": "262cc37b3f5e4776806af9abcd14be95",
       "version_major": 2,
       "version_minor": 0
      },
      "text/plain": [
       "Text(value='')"
      ]
     },
     "metadata": {},
     "output_type": "display_data"
    },
    {
     "data": {
      "application/vnd.jupyter.widget-view+json": {
       "model_id": "3d96e216e05c4337b0a9e93b39555641",
       "version_major": 2,
       "version_minor": 0
      },
      "text/plain": [
       "Text(value='')"
      ]
     },
     "metadata": {},
     "output_type": "display_data"
    }
   ],
   "source": [
    "if (suave_interact_out.widget.result == 1):\n",
    "\n",
    "    input_user_text = widgets.Text()\n",
    "    output_user_text = widgets.Text()\n",
    "\n",
    "    def bind_input_to_output(sender):\n",
    "        output_user_text.value = input_user_text.value\n",
    "    \n",
    "    input_user_text.observe(bind_input_to_output)\n",
    "\n",
    "    print(\"Insert user name here:\")\n",
    "    display(input_user_text)\n",
    "    display(output_user_text)"
   ]
  },
  {
   "cell_type": "code",
   "execution_count": 51,
   "metadata": {},
   "outputs": [
    {
     "name": "stdout",
     "output_type": "stream",
     "text": [
      "200 OK\n",
      "https://suave-dev.sdsc.edu/main/file=zaslavsk_test_cinergi_nbdc_explore_2.csv&views=1110000&view=bucket\n",
      "Click the URL to open the new survey\n"
     ]
    }
   ],
   "source": [
    "import requests\n",
    "import os\n",
    "import re\n",
    "if (suave_interact_out.widget.result == 1):\n",
    "\n",
    "    survey_name = output_survey_text.value\n",
    "    user_name = output_user_text.value\n",
    "\n",
    "    new_file_path = os.path.join(\"../../temp_csvs\", survey_name + \".csv\")\n",
    "    \n",
    "    new_data = data[0]\n",
    "    new_data.dropna(axis=1, how='all', inplace=True)\n",
    "\n",
    "    new_data = new_data.where((pd.notnull(new_data)), '')\n",
    "    new_data.columns = [str(col) + '#number' for col in new_data.columns]\n",
    "\n",
    "    \n",
    "    \n",
    "    csv_file = new_data.to_csv(new_file_path, index=None)\n",
    "    upload_url = \"http://suave-dev.sdsc.edu:3001/uploadCSV\"\n",
    "    new_survey_url_base = \"https://suave-dev.sdsc.edu/main/file=\"\n",
    "    \n",
    "\n",
    "    upload_data = {'name':survey_name, 'dzc':'' ,'user':user_name}\n",
    "    files = {\"file\": open(new_file_path, \"rb\")}\n",
    "    r = requests.post(upload_url, files=files, data=upload_data)\n",
    "    print(r.status_code, r.reason)\n",
    "\n",
    "    regex = re.compile('[^0-9a-zA-Z_]')\n",
    "\n",
    "    url = new_survey_url_base + user_name + \"_\" + survey_name + \".csv\" + \"&views=1110000&view=bucket\"\n",
    "    print(url)\n",
    "    print (\"Click the URL to open the new survey\")\n",
    "\n"
   ]
  },
  {
   "cell_type": "code",
   "execution_count": null,
   "metadata": {},
   "outputs": [],
   "source": [
    "if (suave_interact_out.widget.result == 1):\n",
    "    "
   ]
  }
 ],
 "metadata": {
  "kernelspec": {
   "display_name": "Python 3",
   "language": "python",
   "name": "python3"
  },
  "language_info": {
   "codemirror_mode": {
    "name": "ipython",
    "version": 3
   },
   "file_extension": ".py",
   "mimetype": "text/x-python",
   "name": "python",
   "nbconvert_exporter": "python",
   "pygments_lexer": "ipython3",
   "version": "3.5.2"
  }
 },
 "nbformat": 4,
 "nbformat_minor": 2
}
