{
 "cells": [
  {
   "cell_type": "code",
   "execution_count": 1,
   "metadata": {},
   "outputs": [
    {
     "name": "stdout",
     "output_type": "stream",
     "text": [
      "Requirement already satisfied: osfclient in /home/zeppelin-v/.local/lib/python3.5/site-packages (0.0.3)\n",
      "Requirement already satisfied: six in /usr/local/lib/python3.5/dist-packages (from osfclient) (1.11.0)\n",
      "Requirement already satisfied: tqdm in /home/zeppelin-v/.local/lib/python3.5/site-packages (from osfclient) (4.24.0)\n",
      "Requirement already satisfied: requests in /usr/local/lib/python3.5/dist-packages (from osfclient) (2.18.4)\n",
      "Requirement already satisfied: idna<2.7,>=2.5 in /usr/local/lib/python3.5/dist-packages (from requests->osfclient) (2.6)\n",
      "Requirement already satisfied: chardet<3.1.0,>=3.0.2 in /usr/local/lib/python3.5/dist-packages (from requests->osfclient) (3.0.4)\n",
      "Requirement already satisfied: certifi>=2017.4.17 in /usr/local/lib/python3.5/dist-packages (from requests->osfclient) (2018.1.18)\n",
      "Requirement already satisfied: urllib3<1.23,>=1.21.1 in /usr/local/lib/python3.5/dist-packages (from requests->osfclient) (1.22)\n"
     ]
    }
   ],
   "source": [
    "# run once to install \n",
    "!pip install --user osfclient"
   ]
  },
  {
   "cell_type": "code",
   "execution_count": 24,
   "metadata": {},
   "outputs": [
    {
     "name": "stdout",
     "output_type": "stream",
     "text": [
      "/bin/sh: 1: osf: not found\r\n"
     ]
    }
   ],
   "source": [
    "# Experimenting with command line. Not to include in the final one.\n",
    "# works. lists files. Asks for password.\n",
    "!osf --u \"zaslavsk@sdsc.edu\" --p 6jdtm list"
   ]
  },
  {
   "cell_type": "code",
   "execution_count": 25,
   "metadata": {},
   "outputs": [
    {
     "name": "stdout",
     "output_type": "stream",
     "text": [
      "/bin/sh: 1: osf: not found\r\n"
     ]
    }
   ],
   "source": [
    "# Experimenting with command line. Not to include in the final one.\n",
    "# works. uploads a local file. Asks for password.\n",
    "!osf --u \"zaslavsk@sdsc.edu\" --p \"6jdtm\" upload coralreeffile.txt coral1.txt"
   ]
  },
  {
   "cell_type": "code",
   "execution_count": 37,
   "metadata": {},
   "outputs": [],
   "source": [
    "# Experimenting with Python library\n",
    "import osfclient as osf\n",
    "my_username = 'nmysore@ucsd.edu'\n",
    "my_project = 'qrb9v'\n",
    "import json\n",
    "import requests\n",
    "OSF_API_URL = 'https://api.osf.io/qrb9v/'\n",
    "\n",
    "# A helper function to print out our API responses\n",
    "def pretty_print(json_data):\n",
    "    print(json.dumps(json_data, indent=4))"
   ]
  },
  {
   "cell_type": "code",
   "execution_count": 38,
   "metadata": {},
   "outputs": [],
   "source": [
    "# token = 'HYcLdJOpHlZ8prqwjSp97g6xNQWC1ofmQjYbK77AuUaUaRDtaSWb8in5Q1LEyACHfO9YRN'\n",
    "import os\n",
    "\n",
    "OSF_TOKEN = '1pfcxvPh75xvvT34l4kOPTZG0FZDTNEAVpZgiLKIzbgF2ZVYVfIHAzkDMRAPrI8P6YsdqQ'  # replace this line with your token as a string instead if you like\n",
    "# OSF_API_URL = 'https://staging-api.osf.io/v2/'\n",
    "OSF_API_URL = 'https://api.osf.io/qrb9v/'"
   ]
  },
  {
   "cell_type": "code",
   "execution_count": 39,
   "metadata": {},
   "outputs": [
    {
     "data": {
      "text/plain": [
       "'1pfcxvPh75xvvT34l4kOPTZG0FZDTNEAVpZgiLKIzbgF2ZVYVfIHAzkDMRAPrI8P6YsdqQ'"
      ]
     },
     "execution_count": 39,
     "metadata": {},
     "output_type": "execute_result"
    }
   ],
   "source": [
    "OSF_TOKEN"
   ]
  },
  {
   "cell_type": "code",
   "execution_count": 36,
   "metadata": {},
   "outputs": [
    {
     "ename": "KeyError",
     "evalue": "'data'",
     "output_type": "error",
     "traceback": [
      "\u001b[0;31m---------------------------------------------------------------------------\u001b[0m",
      "\u001b[0;31mKeyError\u001b[0m                                  Traceback (most recent call last)",
      "\u001b[0;32m<ipython-input-36-1419b73aed38>\u001b[0m in \u001b[0;36m<module>\u001b[0;34m()\u001b[0m\n\u001b[1;32m      1\u001b[0m \u001b[0;31m# from https://github.com/erinspace/cos_api_examples/blob/0163ddab7087d3c9dd8a9c1b9bc9a18342f574cc/OSF_API_example.ipynb\u001b[0m\u001b[0;34m\u001b[0m\u001b[0;34m\u001b[0m\u001b[0m\n\u001b[1;32m      2\u001b[0m \u001b[0;31m# Get a list of the first 10 public projects (called nodes)\u001b[0m\u001b[0;34m\u001b[0m\u001b[0;34m\u001b[0m\u001b[0m\n\u001b[0;32m----> 3\u001b[0;31m \u001b[0mresults\u001b[0m \u001b[0;34m=\u001b[0m \u001b[0mrequests\u001b[0m\u001b[0;34m.\u001b[0m\u001b[0mget\u001b[0m\u001b[0;34m(\u001b[0m\u001b[0mOSF_API_URL\u001b[0m \u001b[0;34m+\u001b[0m \u001b[0;34m'nodes/'\u001b[0m\u001b[0;34m)\u001b[0m\u001b[0;34m.\u001b[0m\u001b[0mjson\u001b[0m\u001b[0;34m(\u001b[0m\u001b[0;34m)\u001b[0m\u001b[0;34m[\u001b[0m\u001b[0;34m'data'\u001b[0m\u001b[0;34m]\u001b[0m\u001b[0;34m\u001b[0m\u001b[0m\n\u001b[0m\u001b[1;32m      4\u001b[0m \u001b[0;34m\u001b[0m\u001b[0m\n\u001b[1;32m      5\u001b[0m \u001b[0;31m# Print out the data from the first of those 10 projects\u001b[0m\u001b[0;34m\u001b[0m\u001b[0;34m\u001b[0m\u001b[0m\n",
      "\u001b[0;31mKeyError\u001b[0m: 'data'"
     ]
    }
   ],
   "source": [
    "# from https://github.com/erinspace/cos_api_examples/blob/0163ddab7087d3c9dd8a9c1b9bc9a18342f574cc/OSF_API_example.ipynb \n",
    "# Get a list of the first 10 public projects (called nodes)\n",
    "results = requests.get(OSF_API_URL + 'nodes/').json()['data']\n",
    "\n",
    "# Print out the data from the first of those 10 projects\n",
    "pretty_print(results[0])"
   ]
  },
  {
   "cell_type": "code",
   "execution_count": null,
   "metadata": {
    "collapsed": true
   },
   "outputs": [],
   "source": []
  },
  {
   "cell_type": "code",
   "execution_count": 40,
   "metadata": {},
   "outputs": [
    {
     "ename": "KeyError",
     "evalue": "'links'",
     "output_type": "error",
     "traceback": [
      "\u001b[0;31m---------------------------------------------------------------------------\u001b[0m",
      "\u001b[0;31mKeyError\u001b[0m                                  Traceback (most recent call last)",
      "\u001b[0;32m<ipython-input-40-79f5d2240c20>\u001b[0m in \u001b[0;36m<module>\u001b[0;34m()\u001b[0m\n\u001b[1;32m      5\u001b[0m \u001b[0;31m# Basic query for first page\u001b[0m\u001b[0;34m\u001b[0m\u001b[0;34m\u001b[0m\u001b[0m\n\u001b[1;32m      6\u001b[0m \u001b[0mresults\u001b[0m \u001b[0;34m=\u001b[0m \u001b[0mrequests\u001b[0m\u001b[0;34m.\u001b[0m\u001b[0mget\u001b[0m\u001b[0;34m(\u001b[0m\u001b[0murl\u001b[0m\u001b[0;34m)\u001b[0m\u001b[0;34m.\u001b[0m\u001b[0mjson\u001b[0m\u001b[0;34m(\u001b[0m\u001b[0;34m)\u001b[0m\u001b[0;34m\u001b[0m\u001b[0m\n\u001b[0;32m----> 7\u001b[0;31m \u001b[0mpretty_print\u001b[0m\u001b[0;34m(\u001b[0m\u001b[0mresults\u001b[0m\u001b[0;34m[\u001b[0m\u001b[0;34m'links'\u001b[0m\u001b[0;34m]\u001b[0m\u001b[0;34m)\u001b[0m\u001b[0;34m\u001b[0m\u001b[0m\n\u001b[0m\u001b[1;32m      8\u001b[0m \u001b[0;34m\u001b[0m\u001b[0m\n\u001b[1;32m      9\u001b[0m \u001b[0mprint\u001b[0m\u001b[0;34m(\u001b[0m\u001b[0;34m'---------------------------------------'\u001b[0m\u001b[0;34m)\u001b[0m\u001b[0;34m\u001b[0m\u001b[0m\n",
      "\u001b[0;31mKeyError\u001b[0m: 'links'"
     ]
    }
   ],
   "source": [
    "# Use the links at the bottom of the page to paginate through the returned results\n",
    "\n",
    "url = OSF_API_URL + 'nodes/?filter[title]=CINERGI'\n",
    "\n",
    "# Basic query for first page\n",
    "results = requests.get(url).json()\n",
    "pretty_print(results['links'])\n",
    "\n",
    "print('---------------------------------------')\n",
    "\n"
   ]
  },
  {
   "cell_type": "code",
   "execution_count": 18,
   "metadata": {},
   "outputs": [
    {
     "ename": "IndexError",
     "evalue": "list index out of range",
     "output_type": "error",
     "traceback": [
      "\u001b[0;31m---------------------------------------------------------------------------\u001b[0m",
      "\u001b[0;31mIndexError\u001b[0m                                Traceback (most recent call last)",
      "\u001b[0;32m<ipython-input-18-04a77598e489>\u001b[0m in \u001b[0;36m<module>\u001b[0;34m()\u001b[0m\n\u001b[0;32m----> 1\u001b[0;31m \u001b[0mfirst_result\u001b[0m \u001b[0;34m=\u001b[0m \u001b[0mresults\u001b[0m\u001b[0;34m[\u001b[0m\u001b[0;34m'data'\u001b[0m\u001b[0;34m]\u001b[0m\u001b[0;34m[\u001b[0m\u001b[0;36m0\u001b[0m\u001b[0;34m]\u001b[0m\u001b[0;34m\u001b[0m\u001b[0m\n\u001b[0m\u001b[1;32m      2\u001b[0m \u001b[0;34m\u001b[0m\u001b[0m\n\u001b[1;32m      3\u001b[0m \u001b[0mpretty_print\u001b[0m\u001b[0;34m(\u001b[0m\u001b[0mfirst_result\u001b[0m\u001b[0;34m[\u001b[0m\u001b[0;34m'relationships'\u001b[0m\u001b[0;34m]\u001b[0m\u001b[0;34m[\u001b[0m\u001b[0;34m'contributors'\u001b[0m\u001b[0;34m]\u001b[0m\u001b[0;34m)\u001b[0m\u001b[0;34m\u001b[0m\u001b[0m\n\u001b[1;32m      4\u001b[0m \u001b[0;34m\u001b[0m\u001b[0m\n\u001b[1;32m      5\u001b[0m \u001b[0mprint\u001b[0m\u001b[0;34m(\u001b[0m\u001b[0;34m'---------------------->'\u001b[0m\u001b[0;34m)\u001b[0m\u001b[0;34m\u001b[0m\u001b[0m\n",
      "\u001b[0;31mIndexError\u001b[0m: list index out of range"
     ]
    }
   ],
   "source": [
    "first_result = results['data'][0]\n",
    "\n",
    "pretty_print(first_result['relationships']['contributors'])\n",
    "\n",
    "print('---------------------->')\n",
    "contributors_data = requests.get(first_result['relationships']['contributors']['links']['related']['href'])\n",
    "\n",
    "\n",
    "pretty_print(contributors_data.json()['data'][0]['embeds']['users']['data'])"
   ]
  },
  {
   "cell_type": "code",
   "execution_count": 41,
   "metadata": {},
   "outputs": [],
   "source": [
    "# Let's defne a few helper functions to make sending data and credentials easier\n",
    "def post_request(url, data):\n",
    "    headers = {\n",
    "        'Content-Type': 'application/vnd.api+json',\n",
    "        'Authorization': 'Bearer {}'.format(OSF_TOKEN)\n",
    "    }\n",
    "    data = json.dumps(data)\n",
    "    return requests.post(url, headers=headers, data=data)\n",
    "def get_request(url):\n",
    "    headers = {'Authorization': 'Bearer {}'.format(OSF_TOKEN)}\n",
    "    return requests.get(url, headers=headers)\n",
    "def put_request(url, data):\n",
    "    headers = {\n",
    "        'Content-Type': 'application/vnd.api+json',\n",
    "        'Authorization': 'Bearer {}'.format(OSF_TOKEN)\n",
    "    }\n",
    "    data = json.dumps(data)\n",
    "    return requests.put(url, headers=headers, data=data)"
   ]
  },
  {
   "cell_type": "code",
   "execution_count": 42,
   "metadata": {},
   "outputs": [],
   "source": [
    "# Define the data for the node we'd like to create\n",
    "node_data = {\n",
    "    \"data\": {\n",
    "        \"type\":\"nodes\",\n",
    "        \"attributes\": {\n",
    "            \"title\":\"My new project\",\n",
    "            \"description\": \"This is a sample river geochemistry project\",\n",
    "            \"public\": True,\n",
    "            \"category\":\"project\"\n",
    "        }\n",
    "    }\n",
    "}"
   ]
  },
  {
   "cell_type": "code",
   "execution_count": 43,
   "metadata": {},
   "outputs": [
    {
     "name": "stdout",
     "output_type": "stream",
     "text": [
      "{\n",
      "    \"errors\": [\n",
      "        {\n",
      "            \"detail\": \"Not found.\"\n",
      "        }\n",
      "    ]\n",
      "}\n"
     ]
    }
   ],
   "source": [
    "# Post the data, get a response back with details about our node\n",
    "node_response = post_request(OSF_API_URL + 'nodes/', node_data)\n",
    "pretty_print(node_response.json())\n",
    "\n",
    "\n",
    "node_response = get_request(OSF_API_URL + 'nodes/')"
   ]
  },
  {
   "cell_type": "code",
   "execution_count": 44,
   "metadata": {},
   "outputs": [
    {
     "ename": "KeyError",
     "evalue": "'data'",
     "output_type": "error",
     "traceback": [
      "\u001b[0;31m---------------------------------------------------------------------------\u001b[0m",
      "\u001b[0;31mKeyError\u001b[0m                                  Traceback (most recent call last)",
      "\u001b[0;32m<ipython-input-44-2b8fe2995d39>\u001b[0m in \u001b[0;36m<module>\u001b[0;34m()\u001b[0m\n\u001b[1;32m      1\u001b[0m \u001b[0;31m# Find the files relationship, follow the related -> href link\u001b[0m\u001b[0;34m\u001b[0m\u001b[0;34m\u001b[0m\u001b[0m\n\u001b[0;32m----> 2\u001b[0;31m \u001b[0mfiles_link\u001b[0m \u001b[0;34m=\u001b[0m \u001b[0mnode_response\u001b[0m\u001b[0;34m.\u001b[0m\u001b[0mjson\u001b[0m\u001b[0;34m(\u001b[0m\u001b[0;34m)\u001b[0m\u001b[0;34m[\u001b[0m\u001b[0;34m'data'\u001b[0m\u001b[0;34m]\u001b[0m\u001b[0;34m[\u001b[0m\u001b[0;36m0\u001b[0m\u001b[0;34m]\u001b[0m\u001b[0;34m[\u001b[0m\u001b[0;34m'relationships'\u001b[0m\u001b[0;34m]\u001b[0m\u001b[0;34m[\u001b[0m\u001b[0;34m'files'\u001b[0m\u001b[0;34m]\u001b[0m\u001b[0;34m[\u001b[0m\u001b[0;34m'links'\u001b[0m\u001b[0;34m]\u001b[0m\u001b[0;34m[\u001b[0m\u001b[0;34m'related'\u001b[0m\u001b[0;34m]\u001b[0m\u001b[0;34m[\u001b[0m\u001b[0;34m'href'\u001b[0m\u001b[0;34m]\u001b[0m\u001b[0;34m\u001b[0m\u001b[0m\n\u001b[0m\u001b[1;32m      3\u001b[0m \u001b[0mfiles_response\u001b[0m \u001b[0;34m=\u001b[0m \u001b[0mget_request\u001b[0m\u001b[0;34m(\u001b[0m\u001b[0mfiles_link\u001b[0m\u001b[0;34m)\u001b[0m\u001b[0;34m.\u001b[0m\u001b[0mjson\u001b[0m\u001b[0;34m(\u001b[0m\u001b[0;34m)\u001b[0m\u001b[0;34m\u001b[0m\u001b[0m\n\u001b[1;32m      4\u001b[0m \u001b[0mpretty_print\u001b[0m\u001b[0;34m(\u001b[0m\u001b[0mfiles_response\u001b[0m\u001b[0;34m)\u001b[0m\u001b[0;34m\u001b[0m\u001b[0m\n",
      "\u001b[0;31mKeyError\u001b[0m: 'data'"
     ]
    }
   ],
   "source": [
    "# Find the files relationship, follow the related -> href link\n",
    "files_link = node_response.json()['data'][0]['relationships']['files']['links']['related']['href']\n",
    "files_response = get_request(files_link).json()\n",
    "pretty_print(files_response)"
   ]
  },
  {
   "cell_type": "code",
   "execution_count": 45,
   "metadata": {},
   "outputs": [
    {
     "ename": "NameError",
     "evalue": "name 'files_response' is not defined",
     "output_type": "error",
     "traceback": [
      "\u001b[0;31m---------------------------------------------------------------------------\u001b[0m",
      "\u001b[0;31mNameError\u001b[0m                                 Traceback (most recent call last)",
      "\u001b[0;32m<ipython-input-45-bd11a1a596a4>\u001b[0m in \u001b[0;36m<module>\u001b[0;34m()\u001b[0m\n\u001b[1;32m      1\u001b[0m \u001b[0;31m# Find the upload link for OSF Storage in that list - should be the first element in the list for new nodes\u001b[0m\u001b[0;34m\u001b[0m\u001b[0;34m\u001b[0m\u001b[0m\n\u001b[1;32m      2\u001b[0m \u001b[0;31m# A node can have several external storage providers configured\u001b[0m\u001b[0;34m\u001b[0m\u001b[0;34m\u001b[0m\u001b[0m\n\u001b[0;32m----> 3\u001b[0;31m \u001b[0mupload_link\u001b[0m \u001b[0;34m=\u001b[0m \u001b[0mfiles_response\u001b[0m\u001b[0;34m[\u001b[0m\u001b[0;34m'data'\u001b[0m\u001b[0;34m]\u001b[0m\u001b[0;34m[\u001b[0m\u001b[0;36m0\u001b[0m\u001b[0;34m]\u001b[0m\u001b[0;34m[\u001b[0m\u001b[0;34m'links'\u001b[0m\u001b[0;34m]\u001b[0m\u001b[0;34m[\u001b[0m\u001b[0;34m'upload'\u001b[0m\u001b[0;34m]\u001b[0m\u001b[0;34m\u001b[0m\u001b[0m\n\u001b[0m\u001b[1;32m      4\u001b[0m \u001b[0mupload_link\u001b[0m\u001b[0;34m\u001b[0m\u001b[0m\n",
      "\u001b[0;31mNameError\u001b[0m: name 'files_response' is not defined"
     ]
    }
   ],
   "source": [
    "# Find the upload link for OSF Storage in that list - should be the first element in the list for new nodes\n",
    "# A node can have several external storage providers configured\n",
    "upload_link = files_response['data'][0]['links']['upload']\n",
    "upload_link"
   ]
  },
  {
   "cell_type": "code",
   "execution_count": 46,
   "metadata": {},
   "outputs": [
    {
     "ename": "NameError",
     "evalue": "name 'upload_link' is not defined",
     "output_type": "error",
     "traceback": [
      "\u001b[0;31m---------------------------------------------------------------------------\u001b[0m",
      "\u001b[0;31mNameError\u001b[0m                                 Traceback (most recent call last)",
      "\u001b[0;32m<ipython-input-46-871f2edf88b7>\u001b[0m in \u001b[0;36m<module>\u001b[0;34m()\u001b[0m\n\u001b[1;32m      1\u001b[0m \u001b[0;31m# Upload the file along with the kind and file name\u001b[0m\u001b[0;34m\u001b[0m\u001b[0;34m\u001b[0m\u001b[0m\n\u001b[1;32m      2\u001b[0m \u001b[0;34m\u001b[0m\u001b[0m\n\u001b[0;32m----> 3\u001b[0;31m \u001b[0mupload_link_with_filename\u001b[0m \u001b[0;34m=\u001b[0m \u001b[0mupload_link\u001b[0m \u001b[0;34m+\u001b[0m \u001b[0;34m'?kind=file&name=mynewfile.txt'\u001b[0m\u001b[0;34m\u001b[0m\u001b[0m\n\u001b[0m\u001b[1;32m      4\u001b[0m \u001b[0mfile_data\u001b[0m \u001b[0;34m=\u001b[0m \u001b[0;34m'Metadata content for river geochemistry will appear here. This is the body of the file.'\u001b[0m\u001b[0;34m\u001b[0m\u001b[0m\n\u001b[1;32m      5\u001b[0m \u001b[0;34m\u001b[0m\u001b[0m\n",
      "\u001b[0;31mNameError\u001b[0m: name 'upload_link' is not defined"
     ]
    }
   ],
   "source": [
    "# Upload the file along with the kind and file name\n",
    "\n",
    "upload_link_with_filename = upload_link + '?kind=file&name=mynewfile.txt'\n",
    "file_data = 'Metadata content for river geochemistry will appear here. This is the body of the file.'\n",
    "\n",
    "put_response = put_request(upload_link_with_filename, file_data)\n",
    "pretty_print(put_response.json())"
   ]
  },
  {
   "cell_type": "code",
   "execution_count": 47,
   "metadata": {},
   "outputs": [
    {
     "ename": "KeyError",
     "evalue": "'data'",
     "output_type": "error",
     "traceback": [
      "\u001b[0;31m---------------------------------------------------------------------------\u001b[0m",
      "\u001b[0;31mKeyError\u001b[0m                                  Traceback (most recent call last)",
      "\u001b[0;32m<ipython-input-47-26faae555311>\u001b[0m in \u001b[0;36m<module>\u001b[0;34m()\u001b[0m\n\u001b[1;32m      1\u001b[0m \u001b[0;31m# Check our your project on the OSF by visiting the project's link\u001b[0m\u001b[0;34m\u001b[0m\u001b[0;34m\u001b[0m\u001b[0m\n\u001b[0;32m----> 2\u001b[0;31m \u001b[0mnode_response\u001b[0m\u001b[0;34m.\u001b[0m\u001b[0mjson\u001b[0m\u001b[0;34m(\u001b[0m\u001b[0;34m)\u001b[0m\u001b[0;34m[\u001b[0m\u001b[0;34m'data'\u001b[0m\u001b[0;34m]\u001b[0m\u001b[0;34m[\u001b[0m\u001b[0;36m0\u001b[0m\u001b[0;34m]\u001b[0m\u001b[0;34m[\u001b[0m\u001b[0;34m'links'\u001b[0m\u001b[0;34m]\u001b[0m\u001b[0;34m[\u001b[0m\u001b[0;34m'html'\u001b[0m\u001b[0;34m]\u001b[0m\u001b[0;34m\u001b[0m\u001b[0m\n\u001b[0m",
      "\u001b[0;31mKeyError\u001b[0m: 'data'"
     ]
    }
   ],
   "source": [
    "# Check our your project on the OSF by visiting the project's link\n",
    "node_response.json()['data'][0]['links']['html']"
   ]
  },
  {
   "cell_type": "code",
   "execution_count": 42,
   "metadata": {},
   "outputs": [],
   "source": [
    "# Next to try: https://github.com/erinspace/cos_api_examples/blob/0163ddab7087d3c9dd8a9c1b9bc9a18342f574cc/OSF_SHARE_hacking.ipynb"
   ]
  },
  {
   "cell_type": "markdown",
   "metadata": {},
   "source": [
    "### Plan\n",
    "\n",
    "#### In dispatcher: \n",
    "    Add to menu \"Add the resource to OSF\"\n",
    "#### In OSF_add:\n",
    "    ask which project you want to add the resource to (or individual project)\n",
    "      this will list Coral Reef user upload project (id = v56kj) and River geochemistry user upload project (id = xum75)\n",
    "    ask to confirm the name of the resource (show the title retrieved from CINERGI, ans ask user to confirm)\n",
    "    ask for comments (have a text area where people can type)\n",
    "    ask for what is the type of resource\n",
    "    if a known resource: add it to a CSV file of resources: cinergiID, Title, XML, HTML, who added, when added, comments\n",
    "    (first read the file, then append the new line  in Pandas, then post back\n",
    "    return the project URL (\"see it in OSF at this URL\")"
   ]
  },
  {
   "cell_type": "code",
   "execution_count": null,
   "metadata": {},
   "outputs": [],
   "source": []
  }
 ],
 "metadata": {
  "kernelspec": {
   "display_name": "Python 3",
   "language": "python",
   "name": "python3"
  },
  "language_info": {
   "codemirror_mode": {
    "name": "ipython",
    "version": 3
   },
   "file_extension": ".py",
   "mimetype": "text/x-python",
   "name": "python",
   "nbconvert_exporter": "python",
   "pygments_lexer": "ipython3",
   "version": "3.5.2"
  }
 },
 "nbformat": 4,
 "nbformat_minor": 2
}
