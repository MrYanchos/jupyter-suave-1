{
 "cells": [
  {
   "cell_type": "code",
   "execution_count": 16,
   "metadata": {},
   "outputs": [
    {
     "data": {
      "application/javascript": [
       "function getQueryStringValue (key){  \n",
       "    return unescape(window.location.search.replace(new RegExp(\"^(?:.*[&\\\\?]\" + escape(key).replace(/[\\.\\+\\*]/g, \"\\\\$&\") + \"(?:\\\\=([^&]*))?)?.*$\", \"i\"), \"$1\"));\n",
       "}\n",
       "IPython.notebook.kernel.execute(\"docID='\".concat(getQueryStringValue(\"docID\")).concat(\"'\"));"
      ],
      "text/plain": [
       "<IPython.core.display.Javascript object>"
      ]
     },
     "metadata": {},
     "output_type": "display_data"
    }
   ],
   "source": [
    "%%javascript\n",
    "function getQueryStringValue (key){  \n",
    "    return unescape(window.location.search.replace(new RegExp(\"^(?:.*[&\\\\?]\" + escape(key).replace(/[\\.\\+\\*]/g, \"\\\\$&\") + \"(?:\\\\=([^&]*))?)?.*$\", \"i\"), \"$1\"));\n",
    "}\n",
    "IPython.notebook.kernel.execute(\"docID='\".concat(getQueryStringValue(\"docID\")).concat(\"'\"));"
   ]
  },
  {
   "cell_type": "code",
   "execution_count": 17,
   "metadata": {},
   "outputs": [],
   "source": [
    "import pandas as pd\n",
    "import numpy as np\n",
    "import datetime as dt\n",
    "import matplotlib.pyplot as plt\n",
    "import matplotlib.patches as mpatches\n",
    "import matplotlib.dates as mdates\n",
    "import urllib.request, json\n",
    "import urllib\n",
    "import helpers\n",
    "from datetime import datetime, date, time\n",
    "from ipywidgets import widgets  \n",
    "from IPython import get_ipython\n",
    "from IPython.display import display\n",
    "from matplotlib import pylab\n",
    "from pylab import *\n",
    "from IPython.display import clear_output\n",
    "import warnings"
   ]
  },
  {
   "cell_type": "markdown",
   "metadata": {},
   "source": [
    "# Select Notebook Data:"
   ]
  },
  {
   "cell_type": "code",
   "execution_count": 19,
   "metadata": {},
   "outputs": [
    {
     "data": {
      "application/vnd.jupyter.widget-view+json": {
       "model_id": "f72d8916342b4264be9cebb7ffad4cef",
       "version_major": 2,
       "version_minor": 0
      },
      "text/plain": [
       "interactive(children=(Dropdown(description='notebooks_menu', options=('0. https://nwis.waterdata.usgs.gov/la/n…"
      ]
     },
     "metadata": {},
     "output_type": "display_data"
    }
   ],
   "source": [
    "from __future__ import print_function\n",
    "from ipywidgets import interact, interactive, fixed, interact_manual\n",
    "import ipywidgets as widgets\n",
    "\n",
    "#construct url from variable\n",
    "cinergi_url = \"http://cinergi.sdsc.edu/geoportal/rest/metadata/item/\" + docID\n",
    "\n",
    "#Create dropdown Buttons and generate table\n",
    "data_dropdown_options = helpers.create_dropdown_data (cinergi_url)\n",
    "#Create widget with dropdown options from list created above\n",
    "def f(notebooks_menu):\n",
    "    return notebooks_menu\n",
    "# out = interact(f, notebooks_menu=nb_menu);\n",
    "out = interact(f, notebooks_menu=data_dropdown_options.keys());\n",
    "warnings.simplefilter('ignore')"
   ]
  },
  {
   "cell_type": "markdown",
   "metadata": {},
   "source": [
    "# Prepare Data:"
   ]
  },
  {
   "cell_type": "code",
   "execution_count": 25,
   "metadata": {},
   "outputs": [
    {
     "name": "stdout",
     "output_type": "stream",
     "text": [
      "https://nwis.waterdata.usgs.gov/la/nwis/qwdata/?site_no=07373420\n",
      "Downloading the dataset. Please wait...\n",
      "b'<!DOCTYPE html>\\n'\n"
     ]
    },
    {
     "ename": "ParserError",
     "evalue": "Error tokenizing data. C error: Expected 1 fields in line 298, saw 4\n",
     "output_type": "error",
     "traceback": [
      "\u001b[0;31m---------------------------------------------------------------------------\u001b[0m",
      "\u001b[0;31mParserError\u001b[0m                               Traceback (most recent call last)",
      "\u001b[0;32m<ipython-input-25-afa58ad1699b>\u001b[0m in \u001b[0;36m<module>\u001b[0;34m()\u001b[0m\n\u001b[1;32m     17\u001b[0m \u001b[0;34m\u001b[0m\u001b[0m\n\u001b[1;32m     18\u001b[0m \u001b[0;32mglobal\u001b[0m \u001b[0mdf\u001b[0m\u001b[0;34m\u001b[0m\u001b[0m\n\u001b[0;32m---> 19\u001b[0;31m \u001b[0mdf\u001b[0m \u001b[0;34m=\u001b[0m \u001b[0mpd\u001b[0m\u001b[0;34m.\u001b[0m\u001b[0mread_csv\u001b[0m\u001b[0;34m(\u001b[0m\u001b[0mfile\u001b[0m\u001b[0;34m,\u001b[0m \u001b[0msep\u001b[0m\u001b[0;34m=\u001b[0m\u001b[0;34m'\\t'\u001b[0m\u001b[0;34m,\u001b[0m\u001b[0mskiprows\u001b[0m\u001b[0;34m=\u001b[0m\u001b[0mrange\u001b[0m\u001b[0;34m(\u001b[0m\u001b[0;36m0\u001b[0m\u001b[0;34m,\u001b[0m \u001b[0mskipVal\u001b[0m\u001b[0;34m)\u001b[0m\u001b[0;34m,\u001b[0m\u001b[0mencoding\u001b[0m\u001b[0;34m=\u001b[0m\u001b[0;34m'utf-8'\u001b[0m\u001b[0;34m)\u001b[0m\u001b[0;34m\u001b[0m\u001b[0m\n\u001b[0m\u001b[1;32m     20\u001b[0m \u001b[0mdf\u001b[0m \u001b[0;34m=\u001b[0m \u001b[0mdf\u001b[0m\u001b[0;34m.\u001b[0m\u001b[0mdrop\u001b[0m\u001b[0;34m(\u001b[0m\u001b[0mdf\u001b[0m\u001b[0;34m.\u001b[0m\u001b[0mindex\u001b[0m\u001b[0;34m[\u001b[0m\u001b[0;36m0\u001b[0m\u001b[0;34m]\u001b[0m\u001b[0;34m)\u001b[0m\u001b[0;34m\u001b[0m\u001b[0m\n",
      "\u001b[0;32m/usr/local/lib/python3.5/dist-packages/pandas/io/parsers.py\u001b[0m in \u001b[0;36mparser_f\u001b[0;34m(filepath_or_buffer, sep, delimiter, header, names, index_col, usecols, squeeze, prefix, mangle_dupe_cols, dtype, engine, converters, true_values, false_values, skipinitialspace, skiprows, nrows, na_values, keep_default_na, na_filter, verbose, skip_blank_lines, parse_dates, infer_datetime_format, keep_date_col, date_parser, dayfirst, iterator, chunksize, compression, thousands, decimal, lineterminator, quotechar, quoting, escapechar, comment, encoding, dialect, tupleize_cols, error_bad_lines, warn_bad_lines, skipfooter, skip_footer, doublequote, delim_whitespace, as_recarray, compact_ints, use_unsigned, low_memory, buffer_lines, memory_map, float_precision)\u001b[0m\n\u001b[1;32m    707\u001b[0m                     skip_blank_lines=skip_blank_lines)\n\u001b[1;32m    708\u001b[0m \u001b[0;34m\u001b[0m\u001b[0m\n\u001b[0;32m--> 709\u001b[0;31m         \u001b[0;32mreturn\u001b[0m \u001b[0m_read\u001b[0m\u001b[0;34m(\u001b[0m\u001b[0mfilepath_or_buffer\u001b[0m\u001b[0;34m,\u001b[0m \u001b[0mkwds\u001b[0m\u001b[0;34m)\u001b[0m\u001b[0;34m\u001b[0m\u001b[0m\n\u001b[0m\u001b[1;32m    710\u001b[0m \u001b[0;34m\u001b[0m\u001b[0m\n\u001b[1;32m    711\u001b[0m     \u001b[0mparser_f\u001b[0m\u001b[0;34m.\u001b[0m\u001b[0m__name__\u001b[0m \u001b[0;34m=\u001b[0m \u001b[0mname\u001b[0m\u001b[0;34m\u001b[0m\u001b[0m\n",
      "\u001b[0;32m/usr/local/lib/python3.5/dist-packages/pandas/io/parsers.py\u001b[0m in \u001b[0;36m_read\u001b[0;34m(filepath_or_buffer, kwds)\u001b[0m\n\u001b[1;32m    453\u001b[0m \u001b[0;34m\u001b[0m\u001b[0m\n\u001b[1;32m    454\u001b[0m     \u001b[0;32mtry\u001b[0m\u001b[0;34m:\u001b[0m\u001b[0;34m\u001b[0m\u001b[0m\n\u001b[0;32m--> 455\u001b[0;31m         \u001b[0mdata\u001b[0m \u001b[0;34m=\u001b[0m \u001b[0mparser\u001b[0m\u001b[0;34m.\u001b[0m\u001b[0mread\u001b[0m\u001b[0;34m(\u001b[0m\u001b[0mnrows\u001b[0m\u001b[0;34m)\u001b[0m\u001b[0;34m\u001b[0m\u001b[0m\n\u001b[0m\u001b[1;32m    456\u001b[0m     \u001b[0;32mfinally\u001b[0m\u001b[0;34m:\u001b[0m\u001b[0;34m\u001b[0m\u001b[0m\n\u001b[1;32m    457\u001b[0m         \u001b[0mparser\u001b[0m\u001b[0;34m.\u001b[0m\u001b[0mclose\u001b[0m\u001b[0;34m(\u001b[0m\u001b[0;34m)\u001b[0m\u001b[0;34m\u001b[0m\u001b[0m\n",
      "\u001b[0;32m/usr/local/lib/python3.5/dist-packages/pandas/io/parsers.py\u001b[0m in \u001b[0;36mread\u001b[0;34m(self, nrows)\u001b[0m\n\u001b[1;32m   1067\u001b[0m                 \u001b[0;32mraise\u001b[0m \u001b[0mValueError\u001b[0m\u001b[0;34m(\u001b[0m\u001b[0;34m'skipfooter not supported for iteration'\u001b[0m\u001b[0;34m)\u001b[0m\u001b[0;34m\u001b[0m\u001b[0m\n\u001b[1;32m   1068\u001b[0m \u001b[0;34m\u001b[0m\u001b[0m\n\u001b[0;32m-> 1069\u001b[0;31m         \u001b[0mret\u001b[0m \u001b[0;34m=\u001b[0m \u001b[0mself\u001b[0m\u001b[0;34m.\u001b[0m\u001b[0m_engine\u001b[0m\u001b[0;34m.\u001b[0m\u001b[0mread\u001b[0m\u001b[0;34m(\u001b[0m\u001b[0mnrows\u001b[0m\u001b[0;34m)\u001b[0m\u001b[0;34m\u001b[0m\u001b[0m\n\u001b[0m\u001b[1;32m   1070\u001b[0m \u001b[0;34m\u001b[0m\u001b[0m\n\u001b[1;32m   1071\u001b[0m         \u001b[0;32mif\u001b[0m \u001b[0mself\u001b[0m\u001b[0;34m.\u001b[0m\u001b[0moptions\u001b[0m\u001b[0;34m.\u001b[0m\u001b[0mget\u001b[0m\u001b[0;34m(\u001b[0m\u001b[0;34m'as_recarray'\u001b[0m\u001b[0;34m)\u001b[0m\u001b[0;34m:\u001b[0m\u001b[0;34m\u001b[0m\u001b[0m\n",
      "\u001b[0;32m/usr/local/lib/python3.5/dist-packages/pandas/io/parsers.py\u001b[0m in \u001b[0;36mread\u001b[0;34m(self, nrows)\u001b[0m\n\u001b[1;32m   1837\u001b[0m     \u001b[0;32mdef\u001b[0m \u001b[0mread\u001b[0m\u001b[0;34m(\u001b[0m\u001b[0mself\u001b[0m\u001b[0;34m,\u001b[0m \u001b[0mnrows\u001b[0m\u001b[0;34m=\u001b[0m\u001b[0;32mNone\u001b[0m\u001b[0;34m)\u001b[0m\u001b[0;34m:\u001b[0m\u001b[0;34m\u001b[0m\u001b[0m\n\u001b[1;32m   1838\u001b[0m         \u001b[0;32mtry\u001b[0m\u001b[0;34m:\u001b[0m\u001b[0;34m\u001b[0m\u001b[0m\n\u001b[0;32m-> 1839\u001b[0;31m             \u001b[0mdata\u001b[0m \u001b[0;34m=\u001b[0m \u001b[0mself\u001b[0m\u001b[0;34m.\u001b[0m\u001b[0m_reader\u001b[0m\u001b[0;34m.\u001b[0m\u001b[0mread\u001b[0m\u001b[0;34m(\u001b[0m\u001b[0mnrows\u001b[0m\u001b[0;34m)\u001b[0m\u001b[0;34m\u001b[0m\u001b[0m\n\u001b[0m\u001b[1;32m   1840\u001b[0m         \u001b[0;32mexcept\u001b[0m \u001b[0mStopIteration\u001b[0m\u001b[0;34m:\u001b[0m\u001b[0;34m\u001b[0m\u001b[0m\n\u001b[1;32m   1841\u001b[0m             \u001b[0;32mif\u001b[0m \u001b[0mself\u001b[0m\u001b[0;34m.\u001b[0m\u001b[0m_first_chunk\u001b[0m\u001b[0;34m:\u001b[0m\u001b[0;34m\u001b[0m\u001b[0m\n",
      "\u001b[0;32mpandas/_libs/parsers.pyx\u001b[0m in \u001b[0;36mpandas._libs.parsers.TextReader.read\u001b[0;34m()\u001b[0m\n",
      "\u001b[0;32mpandas/_libs/parsers.pyx\u001b[0m in \u001b[0;36mpandas._libs.parsers.TextReader._read_low_memory\u001b[0;34m()\u001b[0m\n",
      "\u001b[0;32mpandas/_libs/parsers.pyx\u001b[0m in \u001b[0;36mpandas._libs.parsers.TextReader._read_rows\u001b[0;34m()\u001b[0m\n",
      "\u001b[0;32mpandas/_libs/parsers.pyx\u001b[0m in \u001b[0;36mpandas._libs.parsers.TextReader._tokenize_rows\u001b[0;34m()\u001b[0m\n",
      "\u001b[0;32mpandas/_libs/parsers.pyx\u001b[0m in \u001b[0;36mpandas._libs.parsers.raise_parser_error\u001b[0;34m()\u001b[0m\n",
      "\u001b[0;31mParserError\u001b[0m: Error tokenizing data. C error: Expected 1 fields in line 298, saw 4\n"
     ]
    }
   ],
   "source": [
    "#file = 'https://nwis.waterdata.usgs.gov/usa/nwis/qwdata/?site_no=07373420&agency_cd=USGS&inventory_output=0&rdb_inventory_output=file&TZoutput=0&pm_cd_compare=Greater%20than&radio_parm_cds=all_parm_cds&qw_attributes=0&format=rdb&qw_sample_wide=wide&rdb_qw_attributes=0&date_format=YYYY-MM-DD&rdb_compression=value&submitted_form=brief_list'\n",
    "file = data_dropdown_options[out.widget.result]\n",
    "print(file)\n",
    "print('Downloading the dataset. Please wait...')\n",
    "\n",
    "data = urllib.request.urlopen(file) # it's a file like object and works just like a file\n",
    "\n",
    "skipVal = 0\n",
    "for line in data:\n",
    "    strline = str(line)\n",
    "    #print(strline)\n",
    "    if '#' in strline:\n",
    "        pass\n",
    "    else:\n",
    "        break\n",
    "    skipVal = skipVal + 1\n",
    "    \n",
    "global df\n",
    "df = pd.read_csv(file, sep='\\t',skiprows=range(0, skipVal),encoding='utf-8')\n",
    "df = df.drop(df.index[0])"
   ]
  },
  {
   "cell_type": "code",
   "execution_count": 12,
   "metadata": {},
   "outputs": [
    {
     "data": {
      "text/plain": [
       "'Number of variables in each column'"
      ]
     },
     "metadata": {},
     "output_type": "display_data"
    },
    {
     "data": {
      "text/html": [
       "<style  type=\"text/css\" >\n",
       "</style>  \n",
       "<table id=\"T_a01f1a1c_8559_11e8_a8b9_fa163ecfd129\" > \n",
       "<thead>    <tr> \n",
       "        <th class=\"blank level0\" ></th> \n",
       "        <th class=\"col_heading level0 col0\" >agency_cd</th> \n",
       "        <th class=\"col_heading level0 col1\" >site_no</th> \n",
       "        <th class=\"col_heading level0 col2\" >sample_dt</th> \n",
       "        <th class=\"col_heading level0 col3\" >sample_tm</th> \n",
       "        <th class=\"col_heading level0 col4\" >sample_end_dt</th> \n",
       "        <th class=\"col_heading level0 col5\" >sample_end_tm</th> \n",
       "        <th class=\"col_heading level0 col6\" >sample_start_time_datum_cd</th> \n",
       "        <th class=\"col_heading level0 col7\" >tm_datum_rlbty_cd</th> \n",
       "        <th class=\"col_heading level0 col8\" >coll_ent_cd</th> \n",
       "        <th class=\"col_heading level0 col9\" >medium_cd</th> \n",
       "        <th class=\"col_heading level0 col10\" >tu_id</th> \n",
       "        <th class=\"col_heading level0 col11\" >body_part_id</th> \n",
       "        <th class=\"col_heading level0 col12\" >p00028</th> \n",
       "        <th class=\"col_heading level0 col13\" >p00080</th> \n",
       "        <th class=\"col_heading level0 col14\" >p00191</th> \n",
       "        <th class=\"col_heading level0 col15\" >p00400</th> \n",
       "        <th class=\"col_heading level0 col16\" >p00405</th> \n",
       "        <th class=\"col_heading level0 col17\" >p00440</th> \n",
       "        <th class=\"col_heading level0 col18\" >p00445</th> \n",
       "        <th class=\"col_heading level0 col19\" >p00620</th> \n",
       "        <th class=\"col_heading level0 col20\" >p00650</th> \n",
       "        <th class=\"col_heading level0 col21\" >p00902</th> \n",
       "        <th class=\"col_heading level0 col22\" >p00916</th> \n",
       "        <th class=\"col_heading level0 col23\" >p00927</th> \n",
       "        <th class=\"col_heading level0 col24\" >p00933</th> \n",
       "        <th class=\"col_heading level0 col25\" >p00940</th> \n",
       "        <th class=\"col_heading level0 col26\" >p00945</th> \n",
       "        <th class=\"col_heading level0 col27\" >p00951</th> \n",
       "        <th class=\"col_heading level0 col28\" >p00955</th> \n",
       "        <th class=\"col_heading level0 col29\" >p70300</th> \n",
       "        <th class=\"col_heading level0 col30\" >p70303</th> \n",
       "        <th class=\"col_heading level0 col31\" >p71850</th> \n",
       "        <th class=\"col_heading level0 col32\" >p71885</th> \n",
       "        <th class=\"col_heading level0 col33\" >p90095</th> \n",
       "    </tr></thead> \n",
       "<tbody>    <tr> \n",
       "        <th id=\"T_a01f1a1c_8559_11e8_a8b9_fa163ecfd129level0_row0\" class=\"row_heading level0 row0\" >0</th> \n",
       "        <td id=\"T_a01f1a1c_8559_11e8_a8b9_fa163ecfd129row0_col0\" class=\"data row0 col0\" >5</td> \n",
       "        <td id=\"T_a01f1a1c_8559_11e8_a8b9_fa163ecfd129row0_col1\" class=\"data row0 col1\" >5</td> \n",
       "        <td id=\"T_a01f1a1c_8559_11e8_a8b9_fa163ecfd129row0_col2\" class=\"data row0 col2\" >5</td> \n",
       "        <td id=\"T_a01f1a1c_8559_11e8_a8b9_fa163ecfd129row0_col3\" class=\"data row0 col3\" >0</td> \n",
       "        <td id=\"T_a01f1a1c_8559_11e8_a8b9_fa163ecfd129row0_col4\" class=\"data row0 col4\" >0</td> \n",
       "        <td id=\"T_a01f1a1c_8559_11e8_a8b9_fa163ecfd129row0_col5\" class=\"data row0 col5\" >0</td> \n",
       "        <td id=\"T_a01f1a1c_8559_11e8_a8b9_fa163ecfd129row0_col6\" class=\"data row0 col6\" >5</td> \n",
       "        <td id=\"T_a01f1a1c_8559_11e8_a8b9_fa163ecfd129row0_col7\" class=\"data row0 col7\" >5</td> \n",
       "        <td id=\"T_a01f1a1c_8559_11e8_a8b9_fa163ecfd129row0_col8\" class=\"data row0 col8\" >5</td> \n",
       "        <td id=\"T_a01f1a1c_8559_11e8_a8b9_fa163ecfd129row0_col9\" class=\"data row0 col9\" >5</td> \n",
       "        <td id=\"T_a01f1a1c_8559_11e8_a8b9_fa163ecfd129row0_col10\" class=\"data row0 col10\" >0</td> \n",
       "        <td id=\"T_a01f1a1c_8559_11e8_a8b9_fa163ecfd129row0_col11\" class=\"data row0 col11\" >0</td> \n",
       "        <td id=\"T_a01f1a1c_8559_11e8_a8b9_fa163ecfd129row0_col12\" class=\"data row0 col12\" >5</td> \n",
       "        <td id=\"T_a01f1a1c_8559_11e8_a8b9_fa163ecfd129row0_col13\" class=\"data row0 col13\" >2</td> \n",
       "        <td id=\"T_a01f1a1c_8559_11e8_a8b9_fa163ecfd129row0_col14\" class=\"data row0 col14\" >5</td> \n",
       "        <td id=\"T_a01f1a1c_8559_11e8_a8b9_fa163ecfd129row0_col15\" class=\"data row0 col15\" >5</td> \n",
       "        <td id=\"T_a01f1a1c_8559_11e8_a8b9_fa163ecfd129row0_col16\" class=\"data row0 col16\" >5</td> \n",
       "        <td id=\"T_a01f1a1c_8559_11e8_a8b9_fa163ecfd129row0_col17\" class=\"data row0 col17\" >5</td> \n",
       "        <td id=\"T_a01f1a1c_8559_11e8_a8b9_fa163ecfd129row0_col18\" class=\"data row0 col18\" >5</td> \n",
       "        <td id=\"T_a01f1a1c_8559_11e8_a8b9_fa163ecfd129row0_col19\" class=\"data row0 col19\" >4</td> \n",
       "        <td id=\"T_a01f1a1c_8559_11e8_a8b9_fa163ecfd129row0_col20\" class=\"data row0 col20\" >1</td> \n",
       "        <td id=\"T_a01f1a1c_8559_11e8_a8b9_fa163ecfd129row0_col21\" class=\"data row0 col21\" >4</td> \n",
       "        <td id=\"T_a01f1a1c_8559_11e8_a8b9_fa163ecfd129row0_col22\" class=\"data row0 col22\" >4</td> \n",
       "        <td id=\"T_a01f1a1c_8559_11e8_a8b9_fa163ecfd129row0_col23\" class=\"data row0 col23\" >4</td> \n",
       "        <td id=\"T_a01f1a1c_8559_11e8_a8b9_fa163ecfd129row0_col24\" class=\"data row0 col24\" >4</td> \n",
       "        <td id=\"T_a01f1a1c_8559_11e8_a8b9_fa163ecfd129row0_col25\" class=\"data row0 col25\" >5</td> \n",
       "        <td id=\"T_a01f1a1c_8559_11e8_a8b9_fa163ecfd129row0_col26\" class=\"data row0 col26\" >4</td> \n",
       "        <td id=\"T_a01f1a1c_8559_11e8_a8b9_fa163ecfd129row0_col27\" class=\"data row0 col27\" >4</td> \n",
       "        <td id=\"T_a01f1a1c_8559_11e8_a8b9_fa163ecfd129row0_col28\" class=\"data row0 col28\" >4</td> \n",
       "        <td id=\"T_a01f1a1c_8559_11e8_a8b9_fa163ecfd129row0_col29\" class=\"data row0 col29\" >3</td> \n",
       "        <td id=\"T_a01f1a1c_8559_11e8_a8b9_fa163ecfd129row0_col30\" class=\"data row0 col30\" >3</td> \n",
       "        <td id=\"T_a01f1a1c_8559_11e8_a8b9_fa163ecfd129row0_col31\" class=\"data row0 col31\" >4</td> \n",
       "        <td id=\"T_a01f1a1c_8559_11e8_a8b9_fa163ecfd129row0_col32\" class=\"data row0 col32\" >2</td> \n",
       "        <td id=\"T_a01f1a1c_8559_11e8_a8b9_fa163ecfd129row0_col33\" class=\"data row0 col33\" >5</td> \n",
       "    </tr></tbody> \n",
       "</table> "
      ],
      "text/plain": [
       "<pandas.io.formats.style.Styler at 0x7f8e2a21b6a0>"
      ]
     },
     "metadata": {},
     "output_type": "display_data"
    }
   ],
   "source": [
    "df.iloc[0]\n",
    "pd.DataFrame(df.count()).transpose().style\n",
    "df['sample_dt'] =  pd.to_datetime(df['sample_dt'], format='%Y-%m-%d', errors='ignore')\n",
    "display(\"Number of variables in each column\",pd.DataFrame(df.count()).transpose().style)\n",
    "\n",
    "#Create table of parameter definitions\n",
    "url = 'f1'\n",
    "data = pd.read_csv(url, sep='\\t',skiprows=range(0, 6),header = [1],encoding='utf-8')\n",
    "data = data.drop(data.index[0])\n",
    "for i in ['f2','f3','f4','f5','f6','f7']:\n",
    "    temp_data = pd.read_csv(i,sep='\\t',header = None, encoding='utf-8')\n",
    "    temp_data.columns = data.columns.values\n",
    "    data = pd.concat([data,temp_data],ignore_index = True)\n",
    "    \n",
    "data['parm_cd'] = data['parm_cd'].astype('str') \n",
    "data['parm_nm'] = data['parm_nm'].astype('str') "
   ]
  },
  {
   "cell_type": "markdown",
   "metadata": {},
   "source": [
    "# Graph Data:"
   ]
  },
  {
   "cell_type": "code",
   "execution_count": 13,
   "metadata": {},
   "outputs": [
    {
     "data": {
      "application/vnd.jupyter.widget-view+json": {
       "model_id": "77da08fb52d149c99cf6e71fb72e7043",
       "version_major": 2,
       "version_minor": 0
      },
      "text/plain": [
       "Dropdown(description='Number:', options=('Choose Variable', 'p00028 18    Agency analyzing sample, code\\nName:…"
      ]
     },
     "metadata": {},
     "output_type": "display_data"
    },
    {
     "data": {
      "image/png": "[encoded data removed]",
      "text/plain": [
       "<Figure size 432x288 with 1 Axes>"
      ]
     },
     "metadata": {},
     "output_type": "display_data"
    }
   ],
   "source": [
    "column_values = df.columns.values[12:]\n",
    "for index,value in enumerate(column_values):\n",
    "    column_values[index] = \"%s %s\"%(column_values[index], data['parm_nm'][data['parm_cd'] == value[1:]])\n",
    "column_values = np.insert(column_values,0,'Choose Variable')\n",
    "column_values\n",
    "\n",
    "\n",
    "w = widgets.Dropdown(\n",
    "    options=column_values,\n",
    "    description='Number:',\n",
    "    disabled=False,\n",
    "    value = \"Choose Variable\"\n",
    ")\n",
    "\n",
    "#Describe what happens when the button changes its value\n",
    "def on_change(change):\n",
    "    if change['type'] == 'change' and change['name'] == 'value':\n",
    "        try:\n",
    "            df.sort_values('sample_dt', ascending=True)\n",
    "            plt.plot(df['sample_dt'], df[change['new'][0:6]])\n",
    "            xlabel('Time(years)')\n",
    "            title(change['new'])\n",
    "        except ValueError:\n",
    "            print('The column contains a Non-Integer Value! Nothing Can be Displayed!')\n",
    "\n",
    "\n",
    "w.observe(on_change)\n",
    "display(w)"
   ]
  },
  {
   "cell_type": "code",
   "execution_count": null,
   "metadata": {},
   "outputs": [],
   "source": []
  },
  {
   "cell_type": "code",
   "execution_count": null,
   "metadata": {},
   "outputs": [],
   "source": []
  },
  {
   "cell_type": "code",
   "execution_count": null,
   "metadata": {},
   "outputs": [],
   "source": []
  },
  {
   "cell_type": "code",
   "execution_count": null,
   "metadata": {},
   "outputs": [],
   "source": []
  }
 ],
 "metadata": {
  "kernelspec": {
   "display_name": "Python 3",
   "language": "python",
   "name": "python3"
  },
  "language_info": {
   "codemirror_mode": {
    "name": "ipython",
    "version": 3
   },
   "file_extension": ".py",
   "mimetype": "text/x-python",
   "name": "python",
   "nbconvert_exporter": "python",
   "pygments_lexer": "ipython3",
   "version": "3.5.2"
  }
 },
 "nbformat": 4,
 "nbformat_minor": 2
}
