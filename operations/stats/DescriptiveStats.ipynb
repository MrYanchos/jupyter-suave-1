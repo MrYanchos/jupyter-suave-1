{
 "cells": [
  {
   "cell_type": "markdown",
   "metadata": {},
   "source": [
    "# SuAVE Simple Variable Calculations\n",
    "### This sample notebook will read numeric variables from a survey dataset and let users compute a derivative numeric variable and add it to new survey version"
   ]
  },
  {
   "cell_type": "code",
   "execution_count": null,
   "metadata": {},
   "outputs": [],
   "source": [
    "from IPython.display import HTML\n",
    "\n",
    "HTML('''<script>\n",
    "code_show=true; \n",
    "function code_toggle() {\n",
    " if (code_show){\n",
    " $('div.input').hide();\n",
    " } else {\n",
    " $('div.input').show();\n",
    " }\n",
    " code_show = !code_show\n",
    "} \n",
    "$( document ).ready(code_toggle);\n",
    "</script>\n",
    "<form action=\"javascript:code_toggle()\"><input type=\"submit\" value=\"Click here to toggle on/off the raw code.\"></form>''')"
   ]
  },
  {
   "cell_type": "markdown",
   "metadata": {},
   "source": [
    "### 1. Retrieve survey parameters from the URL"
   ]
  },
  {
   "cell_type": "code",
   "execution_count": null,
   "metadata": {},
   "outputs": [],
   "source": [
    "%%javascript\n",
    "function getQueryStringValue (key)\n",
    "{  \n",
    "    return unescape(window.location.search.replace(new RegExp(\"^(?:.*[&\\\\?]\" + escape(key).replace(/[\\.\\+\\*]/g, \"\\\\$&\") + \"(?:\\\\=([^&]*))?)?.*$\", \"i\"), \"$1\"));\n",
    "}\n",
    "IPython.notebook.kernel.execute(\"survey_url='\".concat(getQueryStringValue(\"surveyurl\")).concat(\"'\"));\n",
    "IPython.notebook.kernel.execute(\"views='\".concat(getQueryStringValue(\"views\")).concat(\"'\"));\n",
    "IPython.notebook.kernel.execute(\"view='\".concat(getQueryStringValue(\"view\")).concat(\"'\"));\n",
    "IPython.notebook.kernel.execute(\"user='\".concat(getQueryStringValue(\"user\")).concat(\"'\"));\n",
    "IPython.notebook.kernel.execute(\"csv_file='\".concat(getQueryStringValue(\"csv\")).concat(\"'\")); \n",
    "IPython.notebook.kernel.execute(\"dzc_file='\".concat(getQueryStringValue(\"dzc\")).concat(\"'\")); \n",
    "IPython.notebook.kernel.execute(\"params='\".concat(getQueryStringValue(\"params\")).concat(\"'\")); \n",
    "IPython.notebook.kernel.execute(\"active_object='\".concat(getQueryStringValue(\"activeobject\")).concat(\"'\")); \n",
    "IPython.notebook.kernel.execute(\"full_notebook_url='\" + window.location + \"'\"); "
   ]
  },
  {
   "cell_type": "markdown",
   "metadata": {},
   "source": [
    "### 2. Read the survey file and extract numeric variables"
   ]
  },
  {
   "cell_type": "code",
   "execution_count": null,
   "metadata": {},
   "outputs": [],
   "source": [
    "from __future__ import print_function\n",
    "from ipywidgets import interact, interactive, fixed, interact_manual\n",
    "import ipywidgets as widgets\n",
    "import pandas as pd\n",
    "import math\n",
    "import numpy as np\n",
    "import matplotlib.pyplot as plt\n",
    "import seaborn as sb\n",
    "from sklearn.linear_model import LinearRegression\n",
    "\n",
    "\n",
    "absolutePath = \"../../temp_csvs/\"\n",
    "\n",
    "# read the csv file\n",
    "file = open(absolutePath + csv_file, encoding=\"latin-1\")\n",
    "# print(absolutePath + csv_file)\n",
    "df = pd.read_csv(file)\n",
    "\n",
    "# create a list of variable names\n",
    "variables_df = pd.DataFrame({'varname':df.columns})\n",
    "print(\"All variables:\")\n",
    "print(variables_df.varname.values)\n",
    "\n",
    "nums_df = df[[n for n in variables_df.varname.values if '#number' in n]]\n",
    "\n",
    "\n",
    "\n",
    "# create a dictionary of #number variables with abbreviated and full variable names \n",
    "var_list = {n[:n.index('#')]:n for n in variables_df.varname.values if '#number' in n}\n",
    "print(\"Number variables: \" , var_list)\n"
   ]
  },
  {
   "cell_type": "markdown",
   "metadata": {},
   "source": [
    "### 3. Statistical information ##"
   ]
  },
  {
   "cell_type": "code",
   "execution_count": null,
   "metadata": {},
   "outputs": [],
   "source": [
    "#creating widgets\n",
    "wlist = []\n",
    "i = 0\n",
    "\n",
    "while i < 5 and i < len(var_list):\n",
    "    wlist.append(widgets.Dropdown(options=var_list.keys(), value = list(var_list.keys())[i], description = str(i+1) + \":\"))\n",
    "    i += 1\n",
    "  \n",
    "print(\"Select variables for scatter matrix plotting, then run the next cell\")\n",
    "\n",
    "for n in wlist:\n",
    "    display(n)\n",
    "#a = widgets.Dropdown(options=var_list.keys())\n",
    "#b = widgets.Dropdown(options=var_list.keys())\n",
    "#c = widgets.Dropdown(options=var_list.keys())\n",
    "#d = widgets.Dropdown(options=var_list.keys())\n",
    "#e = widgets.Dropdown(options=var_list.keys())\n",
    "#ui = widgets.VBox([a, b, c, d, e])\n",
    "#def f(a, b, c, d, e):\n",
    "#    return ((a, b, c, d, e))\n",
    "\n",
    "#formula = widgets.interactive_output(f, {'a': a, 'b': b, 'c': b, 'd': b, 'e': b})\n",
    "\n",
    "#display(ui, formula)"
   ]
  },
  {
   "cell_type": "code",
   "execution_count": null,
   "metadata": {},
   "outputs": [],
   "source": [
    "#scattermatrix\n",
    "scat_df = df[[var_list[n.value] for n in wlist]]\n",
    "print(\"Scatter matrix with the variables selected\")\n",
    "wot = pd.tools.plotting.scatter_matrix(scat_df, alpha=0.2, figsize=(10, 10), diagonal='kde')\n",
    "for n in range(len(wot)):\n",
    "    for j in range(len(wot)):\n",
    "        ax = wot[n, j]\n",
    "        ax.set(xlabel=wlist[j].value, ylabel=wlist[n].value)"
   ]
  },
  {
   "cell_type": "code",
   "execution_count": null,
   "metadata": {},
   "outputs": [],
   "source": [
    "#creating widgets\n",
    "a = widgets.Dropdown(options=var_list.keys(), value = list(var_list.keys())[0], description = \"x:\")\n",
    "b = widgets.Dropdown(options=var_list.keys(), value = list(var_list.keys())[1], description = \"y:\")\n",
    "ui = widgets.VBox([a, b])\n",
    "def f(a, b):\n",
    "    return ((a, b))\n",
    "\n",
    "print(\"Select x and y variables for plotting (respectively), then run the next cell\")\n",
    "\n",
    "formula = widgets.interactive_output(f, {'a': a, 'b': b})\n",
    "\n",
    "display(ui, formula)\n"
   ]
  },
  {
   "cell_type": "code",
   "execution_count": null,
   "metadata": {},
   "outputs": [],
   "source": [
    "#scatter and linear regline\n",
    "x = df[var_list[a.value]].tolist()\n",
    "y = df[var_list[b.value]].tolist()\n",
    "\n",
    "print(\"Scatterplot with linear regression line and confidence intervals:\")\n",
    "\n",
    "ax = sb.regplot(var_list[a.value], var_list[b.value], df, scatter_kws={\"s\": 20, \"color\" : \"red\", \"alpha\" : \"0.2\"})\n",
    "ax.set(xlabel=a.value, ylabel=b.value)\n",
    "\n",
    "#adding the log regline\n",
    "#fitl = np.polyfit(np.log(x), y, 1).tolist()\n",
    "\n",
    "#x.sort()\n",
    "#y1 = [np.log(i)*fitl[0] + fitl[1] for i in x]\n",
    "\n",
    "#plt.plot(x, y1, \"-r\")\n",
    "\n",
    "#end plot\n",
    "plt.show()"
   ]
  },
  {
   "cell_type": "code",
   "execution_count": null,
   "metadata": {},
   "outputs": [],
   "source": [
    "#creating widgets\n",
    "a = widgets.Dropdown(options=var_list.keys(), description = \"Variable:\")\n",
    "ui = widgets.VBox([a])\n",
    "def f(a):\n",
    "    return (a)\n",
    "\n",
    "print(\"Select variable for descriptive statistics, then run the next cell\")\n",
    "\n",
    "formula = widgets.interactive_output(f, {'a': a})\n",
    "\n",
    "display(ui, formula)"
   ]
  },
  {
   "cell_type": "code",
   "execution_count": null,
   "metadata": {},
   "outputs": [],
   "source": [
    "#calculating descriptive stats\n",
    "var = df[var_list[a.value]]\n",
    "vmean = var.mean()\n",
    "vsd = var.std()\n",
    "vskew = var.skew()\n",
    "vvar = var.var()\n",
    "\n",
    "print(\"Mean of dataset: \" + str(vmean))\n",
    "print(\"Standard deviation of dataset: \" + str(vsd))\n",
    "print(\"Variance of dataset: \" + str(vvar))\n",
    "print(\"Skew of dataset: \" + str(vskew))\n",
    "print(\"Histogram:\")\n",
    "ax = var.hist()\n",
    "ax.set(xlabel=a.value)\n",
    "noout = plt.axvline(vmean, color='red', linestyle='dashed', linewidth=2)"
   ]
  },
  {
   "cell_type": "markdown",
   "metadata": {},
   "source": [
    "### 4. Define a new variable using the form ##"
   ]
  },
  {
   "cell_type": "code",
   "execution_count": null,
   "metadata": {
    "scrolled": true
   },
   "outputs": [],
   "source": [
    "# Define a new Variable\n",
    "a = widgets.Dropdown(options=var_list.keys())\n",
    "b = widgets.Dropdown(options=['Number of SDs', 'Abs dist from mean'])\n",
    "ui = widgets.VBox([a, b])\n",
    "def f(a, b):\n",
    "    return ((a, b))\n",
    "\n",
    "formula = widgets.interactive_output(f, {'a': a, 'b': b})\n",
    "\n",
    "display(ui, formula)\n",
    "\n",
    "print(\"Select variables and the operation, then run the next cell\")"
   ]
  },
  {
   "cell_type": "markdown",
   "metadata": {},
   "source": [
    "### 5. Edit variable name as needed"
   ]
  },
  {
   "cell_type": "code",
   "execution_count": null,
   "metadata": {},
   "outputs": [],
   "source": [
    "# Give a Name to the New Variable\n",
    "def f(Var_Name):\n",
    "    return Var_Name\n",
    "if b.value == \"Abs dist from mean\":\n",
    "    newvar = interact(f, Var_Name= \"ADFM\" + \" on \" + a.value +'#number')\n",
    "elif b.value == \"Number of SDs\":\n",
    "    newvar = interact(f, Var_Name= \"NSD\" + \" for \" + a.value +'#number')\n",
    "    \n",
    "print(\"After defining variable name hit Enter, then run the next cell\")"
   ]
  },
  {
   "cell_type": "markdown",
   "metadata": {},
   "source": [
    "### 6. Compute the new variable and format it for SuAVE"
   ]
  },
  {
   "cell_type": "code",
   "execution_count": null,
   "metadata": {},
   "outputs": [],
   "source": [
    "#Open the selected notebook\n",
    "# In [73]:\n",
    "# Compute the new variable\n",
    "\n",
    "mean = df[var_list[a.value]].mean()\n",
    "std = df[var_list[a.value]].std()\n",
    "\n",
    "if b.value == 'Abs dist from mean':\n",
    "    df[newvar.widget.result] = [abs(i - mean) for i in df[var_list[a.value]]]\n",
    "    print(df[newvar.widget.result])\n",
    "elif b.value == 'Num of SDs':\n",
    "    df[newvar.widget.result] = [math.ceil(abs(i - mean) / std) for i in df[var_list[a.value]]]\n",
    "    print(df[newvar.widget.result])\n",
    "elif b.value == '+':\n",
    "    df[newvar.widget.result] = df[var_list[a.value]] + df[var_list[c.value]]\n",
    "elif b.value == '-':\n",
    "    df[newvar.widget.result] = df[var_list[a.value]] - df[var_list[c.value]]\n",
    "    \n",
    "# make sure there are no illegal NaN type values in this #number variable\n",
    "df[newvar.widget.result].fillna('',inplace=True)\n",
    "df[newvar.widget.result] = pd.to_numeric(df[newvar.widget.result], errors='coerce', downcast='float')\n",
    "df[newvar.widget.result] = df[newvar.widget.result].apply(lambda x: '{:.6f}'.format(x))\n",
    "df.replace(['None', 'nan'], pd.np.nan, inplace=True)"
   ]
  },
  {
   "cell_type": "markdown",
   "metadata": {},
   "source": [
    "### 7. Save the new version of CSV file, and give a name to new survey"
   ]
  },
  {
   "cell_type": "code",
   "execution_count": null,
   "metadata": {},
   "outputs": [],
   "source": [
    "# new filename\n",
    "new_file = absolutePath + csv_file[:-4]+'_v1.csv'\n",
    "# print(new_file)\n",
    "df.to_csv(new_file, index=None)"
   ]
  },
  {
   "cell_type": "code",
   "execution_count": null,
   "metadata": {},
   "outputs": [],
   "source": [
    "#Input survey name\n",
    "\n",
    "from IPython.display import display\n",
    "input_text = widgets.Text()\n",
    "output_text = widgets.Text()\n",
    "\n",
    "def bind_input_to_output(sender):\n",
    "    output_text.value = input_text.value\n",
    "\n",
    "# Tell the text input widget to call bind_input_to_output() on submit\n",
    "input_text.on_submit(bind_input_to_output)\n",
    "\n",
    "print(\"Input survey name here, then press Enter:\")\n",
    "# Display input text box widget for input\n",
    "display(input_text)\n",
    "\n",
    "display(output_text)\n",
    "\n",
    "print('After setting new survey name, run the next cell')"
   ]
  },
  {
   "cell_type": "code",
   "execution_count": null,
   "metadata": {},
   "outputs": [],
   "source": [
    "#Print survey name\n",
    "survey_name = output_text.value\n",
    "print(\"Survey name is:\", survey_name)"
   ]
  },
  {
   "cell_type": "markdown",
   "metadata": {},
   "source": [
    "### 8. Generate the survey and create survey URL"
   ]
  },
  {
   "cell_type": "code",
   "execution_count": null,
   "metadata": {},
   "outputs": [],
   "source": [
    "#Parse url\n",
    "upload_url = survey_url.split(\"/main\")[0]\n",
    "\n",
    "if \"https\" in upload_url:\n",
    "    upload_url = upload_url.replace(\"s\",\"\",1)\n",
    "    upload_url = upload_url + \":3001/uploadCSV\"    \n",
    "else:\n",
    "    upload_url = upload_url + \"/uploadCSV\"\n",
    "\n",
    "    \n",
    "    \n",
    "new_survey_url_base = survey_url.split(user)[0]"
   ]
  },
  {
   "cell_type": "code",
   "execution_count": null,
   "metadata": {},
   "outputs": [],
   "source": [
    "import requests\n",
    "import re\n",
    "upload_data = {'name': input_text.value, 'dzc': dzc_file, 'user':user}\n",
    "files = {\"file\": open(new_file, \"rb\")}\n",
    "r = requests.post(upload_url, files=files, data=upload_data)\n",
    "print(r.status_code, r.reason)\n",
    "\n",
    "regex = re.compile('[^0-9a-zA-Z_]')\n",
    "survey_url = survey_name\n",
    "survey_url =  regex.sub('_', survey_url)\n",
    "\n",
    "url = new_survey_url_base + user + \"_\" + input_text.value + \".csv\" + \"&views=\" + views + \"&view=\" + view\n",
    "print(url)\n",
    "print (\"Click the URL to open the new survey\")\n"
   ]
  },
  {
   "cell_type": "code",
   "execution_count": null,
   "metadata": {},
   "outputs": [],
   "source": []
  }
 ],
 "metadata": {
  "kernelspec": {
   "display_name": "Python 3",
   "language": "python",
   "name": "python3"
  },
  "language_info": {
   "codemirror_mode": {
    "name": "ipython",
    "version": 3
   },
   "file_extension": ".py",
   "mimetype": "text/x-python",
   "name": "python",
   "nbconvert_exporter": "python",
   "pygments_lexer": "ipython3",
   "version": "3.6.7"
  }
 },
 "nbformat": 4,
 "nbformat_minor": 2
}
